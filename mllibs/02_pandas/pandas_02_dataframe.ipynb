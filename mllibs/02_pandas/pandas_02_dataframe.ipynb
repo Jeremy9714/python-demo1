{
 "cells": [
  {
   "cell_type": "markdown",
   "metadata": {
    "collapsed": true,
    "pycharm": {
     "name": "#%% md\n"
    }
   },
   "source": [
    "## 2. DataFrame\n",
    "### 2.1 DataFrame的创建"
   ]
  },
  {
   "cell_type": "code",
   "execution_count": 71,
   "outputs": [
    {
     "name": "stdout",
     "output_type": "stream",
     "text": [
      "   c1  c2\n",
      "0   1   6\n",
      "1   2   7\n",
      "2   3   8\n",
      "3   4   9\n",
      "4   5  10 <class 'pandas.core.frame.DataFrame'>\n",
      "0    1\n",
      "1    2\n",
      "2    3\n",
      "3    4\n",
      "4    5\n",
      "Name: c1, dtype: int64 <class 'pandas.core.series.Series'>\n"
     ]
    }
   ],
   "source": [
    "import pandas as pd\n",
    "import numpy as np\n",
    "\n",
    "# 通过Series创建\n",
    "s1 = pd.Series([1, 2, 3, 4, 5])\n",
    "s2 = pd.Series([6, 7, 8, 9, 10])\n",
    "df = pd.DataFrame({'c1': s1, 'c2': s2})\n",
    "print(df, type(df))\n",
    "print(df['c1'], type(df['c1']))"
   ],
   "metadata": {
    "collapsed": false,
    "pycharm": {
     "name": "#%%\n"
    }
   }
  },
  {
   "cell_type": "code",
   "execution_count": 72,
   "outputs": [
    {
     "data": {
      "text/plain": "     name  score  age\n1  Jeremy  100.0   28\n2    Sean   40.5   30\n3   Jason   10.7   10\n4  Amanda   80.4   15\n5  Taylor   90.2   30",
      "text/html": "<div>\n<style scoped>\n    .dataframe tbody tr th:only-of-type {\n        vertical-align: middle;\n    }\n\n    .dataframe tbody tr th {\n        vertical-align: top;\n    }\n\n    .dataframe thead th {\n        text-align: right;\n    }\n</style>\n<table border=\"1\" class=\"dataframe\">\n  <thead>\n    <tr style=\"text-align: right;\">\n      <th></th>\n      <th>name</th>\n      <th>score</th>\n      <th>age</th>\n    </tr>\n  </thead>\n  <tbody>\n    <tr>\n      <th>1</th>\n      <td>Jeremy</td>\n      <td>100.0</td>\n      <td>28</td>\n    </tr>\n    <tr>\n      <th>2</th>\n      <td>Sean</td>\n      <td>40.5</td>\n      <td>30</td>\n    </tr>\n    <tr>\n      <th>3</th>\n      <td>Jason</td>\n      <td>10.7</td>\n      <td>10</td>\n    </tr>\n    <tr>\n      <th>4</th>\n      <td>Amanda</td>\n      <td>80.4</td>\n      <td>15</td>\n    </tr>\n    <tr>\n      <th>5</th>\n      <td>Taylor</td>\n      <td>90.2</td>\n      <td>30</td>\n    </tr>\n  </tbody>\n</table>\n</div>"
     },
     "execution_count": 72,
     "metadata": {},
     "output_type": "execute_result"
    }
   ],
   "source": [
    "# 通过字典创建\n",
    "df = pd.DataFrame(\n",
    "    {\n",
    "        # 'id': [1, 2, 3, 4, 5],\n",
    "        'name': ['Jeremy', 'Sean', 'Jason', 'Amanda', 'Taylor'],\n",
    "        'age': [28, 30, 10, 15, 30],\n",
    "        'score': [100.0, 40.5, 10.7, 80.4, 90.2]\n",
    "    },\n",
    "    index=[i for i in range(1, 6)],  # 索引\n",
    "    columns=['name', 'score', 'age']  # 列\n",
    ")\n",
    "df"
   ],
   "metadata": {
    "collapsed": false,
    "pycharm": {
     "name": "#%%\n"
    }
   }
  },
  {
   "cell_type": "markdown",
   "source": [
    "### 2.2 DataFrame的属性"
   ],
   "metadata": {
    "collapsed": false,
    "pycharm": {
     "name": "#%% md\n"
    }
   }
  },
  {
   "cell_type": "code",
   "execution_count": 73,
   "outputs": [
    {
     "name": "stdout",
     "output_type": "stream",
     "text": [
      "     name  score  age\n",
      "1  Jeremy  100.0   28\n",
      "2    Sean   40.5   30\n",
      "3   Jason   10.7   10\n",
      "4  Amanda   80.4   15\n",
      "5  Taylor   90.2   30\n",
      "行索引: Int64Index([1, 2, 3, 4, 5], dtype='int64')\n",
      "列标签: Index(['name', 'score', 'age'], dtype='object')\n",
      "值: [['Jeremy' 100.0 28]\n",
      " ['Sean' 40.5 30]\n",
      " ['Jason' 10.7 10]\n",
      " ['Amanda' 80.4 15]\n",
      " ['Taylor' 90.2 30]]\n"
     ]
    }
   ],
   "source": [
    "print(df)\n",
    "print('行索引:', df.index)\n",
    "print('列标签:', df.columns)\n",
    "print('值:', df.values)"
   ],
   "metadata": {
    "collapsed": false,
    "pycharm": {
     "name": "#%%\n"
    }
   }
  },
  {
   "cell_type": "code",
   "execution_count": 74,
   "outputs": [
    {
     "name": "stdout",
     "output_type": "stream",
     "text": [
      "维度: 2\n",
      "形状: (5, 3)\n",
      "元素个数: 15\n",
      "元素类型: name      object\n",
      "score    float64\n",
      "age        int64\n",
      "dtype: object\n"
     ]
    }
   ],
   "source": [
    "print('维度:', df.ndim)\n",
    "print('形状:', df.shape)\n",
    "print('元素个数:', df.size)\n",
    "print('元素类型:', df.dtypes)"
   ],
   "metadata": {
    "collapsed": false,
    "pycharm": {
     "name": "#%%\n"
    }
   }
  },
  {
   "cell_type": "code",
   "execution_count": 75,
   "outputs": [
    {
     "name": "stdout",
     "output_type": "stream",
     "text": [
      "Index(['name', 'score', 'age'], dtype='object')\n",
      "Int64Index([1, 2, 3, 4, 5], dtype='int64')\n",
      "[['Jeremy' 'Sean' 'Jason' 'Amanda' 'Taylor']\n",
      " [100.0 40.5 10.7 80.4 90.2]\n",
      " [28 30 10 15 30]]\n"
     ]
    }
   ],
   "source": [
    "df.T  # 行列转置\n",
    "print(df.T.index)\n",
    "print(df.T.columns)\n",
    "print(df.T.values)"
   ],
   "metadata": {
    "collapsed": false,
    "pycharm": {
     "name": "#%%\n"
    }
   }
  },
  {
   "cell_type": "markdown",
   "source": [
    "### 2.3 DataFrame元素获取"
   ],
   "metadata": {
    "collapsed": false,
    "pycharm": {
     "name": "#%% md\n"
    }
   }
  },
  {
   "cell_type": "code",
   "execution_count": 76,
   "outputs": [
    {
     "name": "stdout",
     "output_type": "stream",
     "text": [
      "name     Jeremy\n",
      "score     100.0\n",
      "age          28\n",
      "Name: 1, dtype: object\n",
      "name     Jeremy\n",
      "score     100.0\n",
      "age          28\n",
      "Name: 1, dtype: object\n",
      "1    Jeremy\n",
      "2      Sean\n",
      "3     Jason\n",
      "4    Amanda\n",
      "5    Taylor\n",
      "Name: name, dtype: object\n",
      "1    Jeremy\n",
      "2      Sean\n",
      "3     Jason\n",
      "4    Amanda\n",
      "5    Taylor\n",
      "Name: name, dtype: object\n",
      "Jeremy\n",
      "Jeremy\n"
     ]
    }
   ],
   "source": [
    "print(df.loc[1])  # 行索引\n",
    "print(df.iloc[0])  # 行隐式索引\n",
    "print(df.loc[:, 'name'])  # 索引获取列\n",
    "print(df.iloc[:, 0])  # 隐式索引获取列\n",
    "print(df.at[1, 'name'])  # 获取单个元素\n",
    "print(df.iat[0, 0])  # 隐式索引获取单个元素"
   ],
   "metadata": {
    "collapsed": false,
    "pycharm": {
     "name": "#%%\n"
    }
   }
  },
  {
   "cell_type": "code",
   "execution_count": 77,
   "outputs": [
    {
     "name": "stdout",
     "output_type": "stream",
     "text": [
      "1    Jeremy\n",
      "2      Sean\n",
      "3     Jason\n",
      "4    Amanda\n",
      "5    Taylor\n",
      "Name: name, dtype: object <class 'pandas.core.series.Series'>\n",
      "1    Jeremy\n",
      "2      Sean\n",
      "3     Jason\n",
      "4    Amanda\n",
      "5    Taylor\n",
      "Name: name, dtype: object <class 'pandas.core.series.Series'>\n"
     ]
    },
    {
     "data": {
      "text/plain": "     name  score\n1  Jeremy  100.0\n2    Sean   40.5\n3   Jason   10.7\n4  Amanda   80.4\n5  Taylor   90.2",
      "text/html": "<div>\n<style scoped>\n    .dataframe tbody tr th:only-of-type {\n        vertical-align: middle;\n    }\n\n    .dataframe tbody tr th {\n        vertical-align: top;\n    }\n\n    .dataframe thead th {\n        text-align: right;\n    }\n</style>\n<table border=\"1\" class=\"dataframe\">\n  <thead>\n    <tr style=\"text-align: right;\">\n      <th></th>\n      <th>name</th>\n      <th>score</th>\n    </tr>\n  </thead>\n  <tbody>\n    <tr>\n      <th>1</th>\n      <td>Jeremy</td>\n      <td>100.0</td>\n    </tr>\n    <tr>\n      <th>2</th>\n      <td>Sean</td>\n      <td>40.5</td>\n    </tr>\n    <tr>\n      <th>3</th>\n      <td>Jason</td>\n      <td>10.7</td>\n    </tr>\n    <tr>\n      <th>4</th>\n      <td>Amanda</td>\n      <td>80.4</td>\n    </tr>\n    <tr>\n      <th>5</th>\n      <td>Taylor</td>\n      <td>90.2</td>\n    </tr>\n  </tbody>\n</table>\n</div>"
     },
     "execution_count": 77,
     "metadata": {},
     "output_type": "execute_result"
    }
   ],
   "source": [
    "print(df['name'], type(df['name']))  # 获取列数据Series\n",
    "print(df.name, type(df.name))  # 获取列数据Series\n",
    "df[['name', 'score']]  # 返回指定columns的DataFrame"
   ],
   "metadata": {
    "collapsed": false,
    "pycharm": {
     "name": "#%%\n"
    }
   }
  },
  {
   "cell_type": "code",
   "execution_count": 78,
   "outputs": [
    {
     "name": "stdout",
     "output_type": "stream",
     "text": [
      "     name  score  age\n",
      "1  Jeremy  100.0   28\n",
      "2    Sean   40.5   30\n",
      "     name  score  age\n",
      "4  Amanda   80.4   15\n",
      "5  Taylor   90.2   30\n"
     ]
    }
   ],
   "source": [
    "print(df.head(2))  # 前n行数据\n",
    "print(df.tail(2))  # 后n行数据"
   ],
   "metadata": {
    "collapsed": false,
    "pycharm": {
     "name": "#%%\n"
    }
   }
  },
  {
   "cell_type": "code",
   "execution_count": 79,
   "outputs": [
    {
     "name": "stdout",
     "output_type": "stream",
     "text": [
      "     name  score  age\n",
      "1  Jeremy  100.0   28\n",
      "4  Amanda   80.4   15\n",
      "5  Taylor   90.2   30\n",
      "     name  score  age\n",
      "1  Jeremy  100.0   28\n",
      "4  Amanda   80.4   15\n"
     ]
    }
   ],
   "source": [
    "print(df[df.score > 80])  # 布尔索引过滤数据\n",
    "print(df[(df.score > 80) & (df.age < 30)])"
   ],
   "metadata": {
    "collapsed": false,
    "pycharm": {
     "name": "#%%\n"
    }
   }
  },
  {
   "cell_type": "code",
   "execution_count": 80,
   "outputs": [
    {
     "name": "stdout",
     "output_type": "stream",
     "text": [
      "     name  score  age\n",
      "5  Taylor   90.2   30\n",
      "4  Amanda   80.4   15\n",
      "3   Jason   10.7   10\n"
     ]
    }
   ],
   "source": [
    "# 随机抽样n条数据\n",
    "print(df.sample(3))"
   ],
   "metadata": {
    "collapsed": false,
    "pycharm": {
     "name": "#%%\n"
    }
   }
  },
  {
   "cell_type": "code",
   "execution_count": 81,
   "outputs": [
    {
     "name": "stdout",
     "output_type": "stream",
     "text": [
      "    name  score    age\n",
      "1   True  False  False\n",
      "2  False  False  False\n",
      "3  False  False  False\n",
      "4  False  False  False\n",
      "5  False   True  False\n",
      "6  False   True  False\n",
      "    name  score    age\n",
      "1  False  False  False\n",
      "2  False  False  False\n",
      "3  False  False  False\n",
      "4  False  False  False\n",
      "5  False  False  False\n",
      "6  False  False  False\n"
     ]
    }
   ],
   "source": [
    "df = pd.DataFrame(\n",
    "    {\n",
    "        'name': ['Jeremy', 'Sean', 'Sean', 'Jason', 'Amanda', 'Taylor'],\n",
    "        'age': [28, 30, 30, 10, 15, 30],\n",
    "        'score': [100.0, 40.5, 40.5, 10.7, 90.2, 90.2]\n",
    "    },\n",
    "    index=[i for i in range(1, 7)],  # 索引\n",
    "    columns=['name', 'score', 'age']  # 列\n",
    ")\n",
    "df\n",
    "print(df.isin(['Jeremy', 90.2]))  # 查看元素是否包含在参数集合中\n",
    "print(df.isna())  # 查看元素是否为缺失值"
   ],
   "metadata": {
    "collapsed": false,
    "pycharm": {
     "name": "#%%\n"
    }
   }
  },
  {
   "cell_type": "code",
   "execution_count": 88,
   "outputs": [
    {
     "name": "stdout",
     "output_type": "stream",
     "text": [
      "372.09999999999997\n",
      "100.0\n",
      "10.7\n",
      "62.01666666666666\n",
      "65.35\n",
      "0    40.5\n",
      "1    90.2\n",
      "dtype: float64\n",
      "1318.1336666666668\n",
      "36.306110596794404\n"
     ]
    }
   ],
   "source": [
    "print(df.score.sum())\n",
    "print(df.score.max())\n",
    "print(df.score.min())\n",
    "print(df.score.mean())\n",
    "print(df.score.median())\n",
    "print(df.score.mode())\n",
    "print(df.score.var())\n",
    "print(df.score.std())"
   ],
   "metadata": {
    "collapsed": false,
    "pycharm": {
     "name": "#%%\n"
    }
   }
  },
  {
   "cell_type": "code",
   "execution_count": 90,
   "outputs": [
    {
     "data": {
      "text/plain": "            score        age\ncount    6.000000   6.000000\nmean    62.016667  23.833333\nstd     36.306111   8.953584\nmin     10.700000  10.000000\n25%     40.500000  18.250000\n50%     65.350000  29.000000\n75%     90.200000  30.000000\nmax    100.000000  30.000000",
      "text/html": "<div>\n<style scoped>\n    .dataframe tbody tr th:only-of-type {\n        vertical-align: middle;\n    }\n\n    .dataframe tbody tr th {\n        vertical-align: top;\n    }\n\n    .dataframe thead th {\n        text-align: right;\n    }\n</style>\n<table border=\"1\" class=\"dataframe\">\n  <thead>\n    <tr style=\"text-align: right;\">\n      <th></th>\n      <th>score</th>\n      <th>age</th>\n    </tr>\n  </thead>\n  <tbody>\n    <tr>\n      <th>count</th>\n      <td>6.000000</td>\n      <td>6.000000</td>\n    </tr>\n    <tr>\n      <th>mean</th>\n      <td>62.016667</td>\n      <td>23.833333</td>\n    </tr>\n    <tr>\n      <th>std</th>\n      <td>36.306111</td>\n      <td>8.953584</td>\n    </tr>\n    <tr>\n      <th>min</th>\n      <td>10.700000</td>\n      <td>10.000000</td>\n    </tr>\n    <tr>\n      <th>25%</th>\n      <td>40.500000</td>\n      <td>18.250000</td>\n    </tr>\n    <tr>\n      <th>50%</th>\n      <td>65.350000</td>\n      <td>29.000000</td>\n    </tr>\n    <tr>\n      <th>75%</th>\n      <td>90.200000</td>\n      <td>30.000000</td>\n    </tr>\n    <tr>\n      <th>max</th>\n      <td>100.000000</td>\n      <td>30.000000</td>\n    </tr>\n  </tbody>\n</table>\n</div>"
     },
     "execution_count": 90,
     "metadata": {},
     "output_type": "execute_result"
    }
   ],
   "source": [
    "df.describe()  # 数值型列描述性信息"
   ],
   "metadata": {
    "collapsed": false,
    "pycharm": {
     "name": "#%%\n"
    }
   }
  },
  {
   "cell_type": "code",
   "execution_count": 95,
   "outputs": [
    {
     "name": "stdout",
     "output_type": "stream",
     "text": [
      "name     6\n",
      "score    6\n",
      "age      6\n",
      "dtype: int64\n",
      "name    score  age\n",
      "Sean    40.5   30     2\n",
      "Amanda  90.2   15     1\n",
      "Jason   10.7   10     1\n",
      "Jeremy  100.0  28     1\n",
      "Taylor  90.2   30     1\n",
      "dtype: int64\n",
      "     name  score  age\n",
      "1  Jeremy  100.0   28\n",
      "2    Sean   40.5   30\n",
      "4   Jason   10.7   10\n",
      "5  Amanda   90.2   15\n",
      "6  Taylor   90.2   30\n",
      "1    False\n",
      "2    False\n",
      "3     True\n",
      "4    False\n",
      "5    False\n",
      "6    False\n",
      "dtype: bool\n"
     ]
    }
   ],
   "source": [
    "print(df.count())  # 每列非缺失值元素个数\n",
    "print(df.value_counts())  # 每行出现个数\n",
    "print(df.drop_duplicates())  # 去重行元素\n",
    "print(df.duplicated())  # 判断每行是否重复"
   ],
   "metadata": {
    "collapsed": false,
    "pycharm": {
     "name": "#%%\n"
    }
   }
  },
  {
   "cell_type": "code",
   "execution_count": 101,
   "outputs": [
    {
     "name": "stdout",
     "output_type": "stream",
     "text": [
      "                              name  score  age\n",
      "1                           Jeremy  100.0   28\n",
      "2                       JeremySean  140.5   58\n",
      "3                   JeremySeanSean  181.0   88\n",
      "4              JeremySeanSeanJason  191.7   98\n",
      "5        JeremySeanSeanJasonAmanda  281.9  113\n",
      "6  JeremySeanSeanJasonAmandaTaylor  372.1  143\n",
      "     name  score  age\n",
      "1  Jeremy  100.0   28\n",
      "2    Sean  100.0   30\n",
      "3    Sean  100.0   30\n",
      "4    Sean  100.0   30\n",
      "5    Sean  100.0   30\n",
      "6  Taylor  100.0   30\n"
     ]
    }
   ],
   "source": [
    "print(df.cumsum())\n",
    "print(df.cummax(axis=0))  # 按列累积最大值"
   ],
   "metadata": {
    "collapsed": false,
    "pycharm": {
     "name": "#%%\n"
    }
   }
  },
  {
   "cell_type": "code",
   "execution_count": 103,
   "outputs": [
    {
     "name": "stdout",
     "output_type": "stream",
     "text": [
      "     name  score  age\n",
      "6  Taylor   90.2   30\n",
      "5  Amanda   90.2   15\n",
      "4   Jason   10.7   10\n",
      "3    Sean   40.5   30\n",
      "2    Sean   40.5   30\n",
      "1  Jeremy  100.0   28\n",
      "     name  score  age\n",
      "4   Jason   10.7   10\n",
      "2    Sean   40.5   30\n",
      "3    Sean   40.5   30\n",
      "6  Taylor   90.2   30\n",
      "5  Amanda   90.2   15\n",
      "1  Jeremy  100.0   28\n"
     ]
    }
   ],
   "source": [
    "print(df.sort_index(ascending=False))  # 按行索引排序\n",
    "print(df.sort_values(by=['score', 'age'], ascending=[True, False]))  # 按指定列排序"
   ],
   "metadata": {
    "collapsed": false,
    "pycharm": {
     "name": "#%%\n"
    }
   }
  },
  {
   "cell_type": "code",
   "execution_count": 107,
   "outputs": [
    {
     "name": "stdout",
     "output_type": "stream",
     "text": [
      "     name  score  age\n",
      "1  Jeremy  100.0   28\n",
      "6  Taylor   90.2   30\n",
      "    name  score  age\n",
      "4  Jason   10.7   10\n",
      "2   Sean   40.5   30\n"
     ]
    }
   ],
   "source": [
    "print(df.nlargest(2, columns=['score', 'age']))\n",
    "print(df.nsmallest(2, columns=['score', 'age']))"
   ],
   "metadata": {
    "collapsed": false,
    "pycharm": {
     "name": "#%%\n"
    }
   }
  },
  {
   "cell_type": "markdown",
   "source": [
    "### 2.4 DataFrame案例"
   ],
   "metadata": {
    "collapsed": false,
    "pycharm": {
     "name": "#%% md\n"
    }
   }
  },
  {
   "cell_type": "code",
   "execution_count": 126,
   "outputs": [
    {
     "name": "stdout",
     "output_type": "stream",
     "text": [
      "  name  math  english  physics\n",
      "0   z3    85       90       75\n",
      "1   l4    92       88       80\n",
      "2   w5    78       85       88\n",
      "3   z6    88       92       85\n",
      "4   q7    95       80       90\n",
      "  name  math  english  physics  total       mean\n",
      "0   z3    85       90       75    250  83.333333\n",
      "1   l4    92       88       80    260  86.666667\n",
      "2   w5    78       85       88    251  83.666667\n",
      "3   z6    88       92       85    265  88.333333\n",
      "4   q7    95       80       90    265  88.333333\n",
      "  name  math  english  physics  total       mean\n",
      "0   z3    85       90       75    250  83.333333\n",
      "1   l4    92       88       80    260  86.666667\n",
      "3   z6    88       92       85    265  88.333333\n",
      "4   q7    95       80       90    265  88.333333\n",
      "  name  total\n",
      "3   z6    265\n",
      "4   q7    265\n",
      "1   l4    260\n"
     ]
    }
   ],
   "source": [
    "\"\"\"\n",
    "已知班级学生成绩. 计算每位学生的总分和平均分、找出数学成绩高于90分或英语成绩\n",
    "高于85分的学生、按总分从高到低排序，并输出前三名学生\n",
    "\"\"\"\n",
    "data = {\n",
    "    'name': ['z3', 'l4', 'w5', 'z6', 'q7'],\n",
    "    'math': [85, 92, 78, 88, 95],\n",
    "    'english': [90, 88, 85, 92, 80],\n",
    "    'physics': [75, 80, 88, 85, 90]\n",
    "}\n",
    "scores = pd.DataFrame(data)\n",
    "print(scores)\n",
    "scores['total'] = scores[['math', 'english', 'physics']].sum(axis=1)\n",
    "scores['mean'] = scores[['math', 'english', 'physics']].mean(axis=1)\n",
    "print(scores)\n",
    "print(scores[(scores.math > 90) | (scores.english > 85)])\n",
    "# print(scores.sort_values('total', ascending=False)[['name', 'total']].head(3))\n",
    "print(scores.nlargest(3, columns=['total'])[['name', 'total']])"
   ],
   "metadata": {
    "collapsed": false,
    "pycharm": {
     "name": "#%%\n"
    }
   }
  },
  {
   "cell_type": "code",
   "execution_count": 132,
   "outputs": [
    {
     "name": "stdout",
     "output_type": "stream",
     "text": [
      "  p_name  price  s_num\n",
      "0      A    100     50\n",
      "1      B    150     30\n",
      "2      C    200     20\n",
      "3      D    120     40\n",
      "  p_name  price  s_num  total\n",
      "0      A    100     50   5000\n",
      "1      B    150     30   4500\n",
      "2      C    200     20   4000\n",
      "3      D    120     40   4800\n",
      "  p_name  price  s_num  total\n",
      "0      A    100     50   5000\n",
      "  p_name  price  s_num  total\n",
      "0      A    100     50   5000\n",
      "3      D    120     40   4800\n",
      "1      B    150     30   4500\n",
      "2      C    200     20   4000\n"
     ]
    }
   ],
   "source": [
    "\"\"\"\n",
    "已知公司销售数据. 计算每种产品的总销售额(销售额 = 单价 * 销量)、\n",
    "找出销售额最高的产品、按销售额从高到低排序，并输出所有产品信息\n",
    "\"\"\"\n",
    "data = {\n",
    "    'p_name': ['A', 'B', 'C', 'D'],\n",
    "    'price': [100, 150, 200, 120],\n",
    "    's_num': [50, 30, 20, 40]\n",
    "}\n",
    "df = pd.DataFrame(data)\n",
    "print(df)\n",
    "df['total'] = df['price'] * df['s_num']\n",
    "print(df)\n",
    "print(df.nlargest(1, columns=['total']))\n",
    "print(df.sort_values(by=['total'], ascending=False))"
   ],
   "metadata": {
    "collapsed": false,
    "pycharm": {
     "name": "#%%\n"
    }
   }
  },
  {
   "cell_type": "code",
   "execution_count": 140,
   "outputs": [
    {
     "name": "stdout",
     "output_type": "stream",
     "text": [
      "   uid    uname   category  price  num\n",
      "0  101    Alice   e_device   1200    1\n",
      "1  102      Bob      dress    300    3\n",
      "2  103  Charlie   e_device    800    2\n",
      "3  104    David  furniture    150    5\n",
      "4  105      Eve      dress    200    4\n",
      "   uid    uname   category  price  num  total\n",
      "0  101    Alice   e_device   1200    1   1200\n",
      "1  102      Bob      dress    300    3    900\n",
      "2  103  Charlie   e_device    800    2   1600\n",
      "3  104    David  furniture    150    5    750\n",
      "4  105      Eve      dress    200    4    800\n",
      "1050.0\n",
      "3\n"
     ]
    }
   ],
   "source": [
    "\"\"\"\n",
    "已知电商平台用户行为数据. 计算每位用户总消费金额(消费金额 = 商品单价 * 购买数量)、\n",
    "找出消费金额最高的用户，并输出其所有信息、计算所有用户的平均消费金额(保留两位小数)、\n",
    "统计电子产品的总购买数量\n",
    "\"\"\"\n",
    "data = {\n",
    "    'uid': [101, 102, 103, 104, 105],\n",
    "    'uname': ['Alice', 'Bob', 'Charlie', 'David', 'Eve'],\n",
    "    'category': ['e_device', 'dress', 'e_device', 'furniture', 'dress'],\n",
    "    'price': [1200, 300, 800, 150, 200],\n",
    "    'num': [1, 3, 2, 5, 4]\n",
    "}\n",
    "df = pd.DataFrame(data)\n",
    "print(df)\n",
    "df['total'] = df['price'] * df['num']\n",
    "print(df)\n",
    "df.nlargest(1, columns=['total'])\n",
    "print(df.total.mean())\n",
    "print(df[df['category'] == 'e_device'].num.sum())"
   ],
   "metadata": {
    "collapsed": false,
    "pycharm": {
     "name": "#%%\n"
    }
   }
  }
 ],
 "metadata": {
  "kernelspec": {
   "display_name": "Python 3",
   "language": "python",
   "name": "python3"
  },
  "language_info": {
   "codemirror_mode": {
    "name": "ipython",
    "version": 2
   },
   "file_extension": ".py",
   "mimetype": "text/x-python",
   "name": "python",
   "nbconvert_exporter": "python",
   "pygments_lexer": "ipython2",
   "version": "2.7.6"
  }
 },
 "nbformat": 4,
 "nbformat_minor": 0
}