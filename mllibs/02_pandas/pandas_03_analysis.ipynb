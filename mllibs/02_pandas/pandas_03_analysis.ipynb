{
 "cells": [
  {
   "cell_type": "markdown",
   "metadata": {
    "collapsed": true,
    "pycharm": {
     "name": "#%% md\n"
    }
   },
   "source": [
    "## 3. 数据分析\n",
    "### 3.1 数据的导入导出"
   ]
  },
  {
   "cell_type": "code",
   "execution_count": 123,
   "outputs": [],
   "source": [
    "import numpy as np\n",
    "import pandas as pd\n",
    "\n",
    "# df = pd.DataFrame(\n",
    "#     {\n",
    "#         'name': ['n1', 'n2', 'n3', 'n4', 'n5'],\n",
    "#         'salary': [100, 200, 150, 200, 300],\n",
    "#         'age': [30, 20, 25, 18, 30]\n",
    "#     },\n",
    "#     index=[101, 102, 103, 104, 105])\n",
    "# df = pd.read_csv('../file/old.csv')  # 读取csv\n",
    "# df = pd.read_json('../file/old.json')  # 读取json\n",
    "# print(df)\n",
    "# df.to_csv('../file/new.csv')  # 写入csv\n",
    "# df.to_json('../file/new.json')  # 写入json"
   ],
   "metadata": {
    "collapsed": false,
    "pycharm": {
     "name": "#%%\n"
    }
   }
  },
  {
   "cell_type": "markdown",
   "source": [
    "### 3.2 缺失值处理"
   ],
   "metadata": {
    "collapsed": false,
    "pycharm": {
     "name": "#%% md\n"
    }
   }
  },
  {
   "cell_type": "code",
   "execution_count": 124,
   "outputs": [
    {
     "name": "stdout",
     "output_type": "stream",
     "text": [
      "0      12\n",
      "1      25\n",
      "2     NaN\n",
      "3    None\n",
      "4    <NA>\n",
      "dtype: object\n",
      "     A     B  C\n",
      "0  1.0  <NA>  2\n",
      "1  2.0     3  5\n",
      "2  NaN     4  8\n",
      "0    False\n",
      "1    False\n",
      "2     True\n",
      "3     True\n",
      "4     True\n",
      "dtype: bool\n",
      "0    False\n",
      "1    False\n",
      "2     True\n",
      "3     True\n",
      "4     True\n",
      "dtype: bool\n",
      "3\n",
      "--------------------\n",
      "       A      B      C\n",
      "0  False   True  False\n",
      "1  False  False  False\n",
      "2   True  False  False\n",
      "       A      B      C\n",
      "0  False   True  False\n",
      "1  False  False  False\n",
      "2   True  False  False\n",
      "A    1\n",
      "B    1\n",
      "C    0\n",
      "dtype: int64\n",
      "0    1\n",
      "1    0\n",
      "2    1\n",
      "dtype: int64\n"
     ]
    }
   ],
   "source": [
    "s = pd.Series([12, 25, np.nan, None, pd.NA])\n",
    "df = pd.DataFrame([[1, pd.NA, 2], [2, 3, 5], [None, 4, 8]],\n",
    "                  columns=['A', 'B', 'C'])\n",
    "print(s)\n",
    "print(df)\n",
    "\n",
    "# 查看缺失值\n",
    "print(s.isna())\n",
    "print(s.isnull())\n",
    "print(s.isna().sum())\n",
    "print('-' * 20)\n",
    "print(df.isna())\n",
    "print(df.isnull())\n",
    "print(df.isna().sum())  # 按列统计\n",
    "print(df.isna().sum(axis=1))  # 按行统计"
   ],
   "metadata": {
    "collapsed": false,
    "pycharm": {
     "name": "#%%\n"
    }
   }
  },
  {
   "cell_type": "code",
   "execution_count": 125,
   "outputs": [
    {
     "name": "stdout",
     "output_type": "stream",
     "text": [
      "0    12\n",
      "1    25\n",
      "dtype: object\n",
      "     A     B  C\n",
      "0  1.0  <NA>  2\n",
      "1  2.0     3  5\n",
      "2  NaN     4  8\n",
      "---------------\n",
      "     A  B  C\n",
      "1  2.0  3  5\n",
      "     A     B  C\n",
      "0  1.0  <NA>  2\n",
      "1  2.0     3  5\n",
      "2  NaN     4  8\n",
      "     A     B  C\n",
      "0  1.0  <NA>  2\n",
      "1  2.0     3  5\n",
      "2  NaN     4  8\n",
      "   C\n",
      "0  2\n",
      "1  5\n",
      "2  8\n",
      "     A     B  C\n",
      "0  1.0  <NA>  2\n",
      "1  2.0     3  5\n"
     ]
    }
   ],
   "source": [
    "# 剔除缺失值\n",
    "print(s.dropna())\n",
    "print(df)\n",
    "print(\"-\" * 15)\n",
    "print(df.dropna())  # 剔除整行数据\n",
    "print(df.dropna(how='all'))  # 若所有值都为缺失值，则删除该行数据\n",
    "print(df.dropna(thresh=2))  # 缺失值小于阈值，则删除该行数据\n",
    "print(df.dropna(axis=1))  # 剔除整列数据\n",
    "print(df.dropna(subset=['A']))  # 指定列有缺失值，则删除对应行"
   ],
   "metadata": {
    "collapsed": false,
    "pycharm": {
     "name": "#%%\n"
    }
   }
  },
  {
   "cell_type": "code",
   "execution_count": 126,
   "outputs": [
    {
     "name": "stdout",
     "output_type": "stream",
     "text": [
      "      A   B  C\n",
      "0   1.0  77  2\n",
      "1   2.0   3  5\n",
      "2  66.0   4  8\n",
      "     A    B  C\n",
      "0  1.0  5.0  2\n",
      "1  2.0  3.0  5\n",
      "2  5.0  4.0  8\n",
      "     A     B  C\n",
      "0  1.0  <NA>  2\n",
      "1  2.0     3  5\n",
      "2  2.0     4  8\n",
      "     A  B  C\n",
      "0  1.0  3  2\n",
      "1  2.0  3  5\n",
      "2  NaN  4  8\n"
     ]
    }
   ],
   "source": [
    "# 填充缺失值\n",
    "print(df.fillna({'A': 66, 'B': 77}))  # 通过字典填充\n",
    "print(df.fillna(df.C.mean()))  # 使用指定值填充\n",
    "print(df.ffill())  # 使用前面相邻值填充\n",
    "print(df.bfill())  # 使用后面相邻值填充"
   ],
   "metadata": {
    "collapsed": false,
    "pycharm": {
     "name": "#%%\n"
    }
   }
  },
  {
   "cell_type": "code",
   "execution_count": 127,
   "outputs": [
    {
     "name": "stdout",
     "output_type": "stream",
     "text": [
      "    name  age city\n",
      "0  Alice   26   NY\n",
      "1  Alice   25   NY\n",
      "2    Bob   30   LA\n",
      "3  Alice   25   NY\n",
      "4   Jack   35   SF\n",
      "5    Bob   30   LA\n",
      "0    False\n",
      "1    False\n",
      "2    False\n",
      "3     True\n",
      "4    False\n",
      "5     True\n",
      "dtype: bool\n",
      "    name  age city\n",
      "0  Alice   26   NY\n",
      "2    Bob   30   LA\n",
      "4   Jack   35   SF\n",
      "    name  age city\n",
      "3  Alice   25   NY\n",
      "4   Jack   35   SF\n",
      "5    Bob   30   LA\n"
     ]
    }
   ],
   "source": [
    "# 处理重复数据\n",
    "data = {\n",
    "    'name': ['Alice', 'Alice', 'Bob', 'Alice', 'Jack', 'Bob'],\n",
    "    'age': [26, 25, 30, 25, 35, 30],\n",
    "    'city': ['NY', 'NY', 'LA', 'NY', 'SF', 'LA']\n",
    "}\n",
    "df = pd.DataFrame(data)\n",
    "print(df)\n",
    "print(df.duplicated())  # 整行数据是否重复\n",
    "print(df.drop_duplicates(subset=['name']))  # 指定列去重\n",
    "print(df.drop_duplicates(subset=['name'], keep='last'))  # 指定列去重并保留后面的值"
   ],
   "metadata": {
    "collapsed": false,
    "pycharm": {
     "name": "#%%\n"
    }
   }
  },
  {
   "cell_type": "markdown",
   "source": [
    "### 3.3 数据类型转换"
   ],
   "metadata": {
    "collapsed": false
   }
  },
  {
   "cell_type": "code",
   "execution_count": 128,
   "outputs": [
    {
     "name": "stdout",
     "output_type": "stream",
     "text": [
      "  name  age  gender\n",
      "0   n1   30    male\n",
      "1   n2   20  female\n",
      "2   n3   18    male\n",
      "name      object\n",
      "age        int64\n",
      "gender    object\n",
      "dtype: object\n",
      "0    30\n",
      "1    20\n",
      "2    18\n",
      "Name: age, dtype: int16\n",
      "0      male\n",
      "1    female\n",
      "2      male\n",
      "Name: gender, dtype: category\n",
      "Categories (2, object): ['female', 'male']\n",
      "---------------\n",
      "0     True\n",
      "1    False\n",
      "2     True\n",
      "Name: gender, dtype: category\n",
      "Categories (2, object): [False, True]\n"
     ]
    },
    {
     "name": "stderr",
     "output_type": "stream",
     "text": [
      "D:\\anaconda\\anaconda3\\envs\\py_3.7\\lib\\site-packages\\ipykernel_launcher.py:14: UserWarning: Pandas doesn't allow columns to be created via a new attribute name - see https://pandas.pydata.org/pandas-docs/stable/indexing.html#attribute-access\n",
      "  \n"
     ]
    }
   ],
   "source": [
    "data = {\n",
    "    'name': ['n1', 'n2', 'n3'],\n",
    "    'age': [30, 20, 18],\n",
    "    'gender': [\"male\", 'female', 'male']\n",
    "}\n",
    "df = pd.DataFrame(data)\n",
    "print(df)\n",
    "print(df.dtypes)\n",
    "df.age = df.age.astype('int16')  # 类型转换\n",
    "print(df.age)\n",
    "df.gender = df.gender.astype('category')  # 类别类型\n",
    "print(df.gender)\n",
    "print(\"-\" * 15)\n",
    "df.is_male = df.gender.map({'female': False, 'male': True})  # 映射为指定值\n",
    "print(df.is_male)"
   ],
   "metadata": {
    "collapsed": false,
    "pycharm": {
     "name": "#%%\n"
    }
   }
  },
  {
   "cell_type": "markdown",
   "source": [
    "### 3.4 数据变形"
   ],
   "metadata": {
    "collapsed": false,
    "pycharm": {
     "name": "#%% md\n"
    }
   }
  },
  {
   "cell_type": "code",
   "execution_count": 129,
   "outputs": [
    {
     "name": "stdout",
     "output_type": "stream",
     "text": [
      "   id   name  math  english  science\n",
      "0   1  Alice    90       88       95\n",
      "1   2    Bob    85       92       89\n",
      "             0    1\n",
      "id           1    2\n",
      "name     Alice  Bob\n",
      "math        90   85\n",
      "english     88   92\n",
      "science     95   89\n",
      "   id   name  subject  grade\n",
      "0   1  Alice     math     90\n",
      "2   1  Alice  english     88\n",
      "4   1  Alice  science     95\n",
      "1   2    Bob     math     85\n",
      "3   2    Bob  english     92\n",
      "5   2    Bob  science     89\n",
      "---------------\n",
      "subject   english  math  science\n",
      "id name                         \n",
      "1  Alice       88    90       95\n",
      "2  Bob         92    85       89\n"
     ]
    }
   ],
   "source": [
    "data = {\n",
    "    'id': [1, 2],\n",
    "    'name': ['Alice', 'Bob'],\n",
    "    'math': [90, 85],\n",
    "    'english': [88, 92],\n",
    "    'science': [95, 89]\n",
    "}\n",
    "df = pd.DataFrame(data)\n",
    "print(df)\n",
    "print(df.T)\n",
    "\n",
    "# 宽表转长表\n",
    "# id_vars为保留的列(可多个)\n",
    "# 新增了两个列(variable和value)\n",
    "# 把其余的列(id_vars以外)的所有值全部按照<列名 —— 值>的方式，一行一行的纵向堆起来\n",
    "# variable为列名，value为值\n",
    "melted_df = pd.melt(\n",
    "    df,\n",
    "    id_vars=['id', 'name'],\n",
    "    var_name='subject',\n",
    "    value_name='grade')\n",
    "print(melted_df.sort_values('name'))\n",
    "print(\"-\" * 15)\n",
    "# 获取原始DataFrame\n",
    "print(melted_df.pivot(\n",
    "    index=['id', 'name'],\n",
    "    columns='subject',\n",
    "    values='grade')\n",
    ")"
   ],
   "metadata": {
    "collapsed": false,
    "pycharm": {
     "name": "#%%\n"
    }
   }
  },
  {
   "cell_type": "code",
   "execution_count": 130,
   "outputs": [
    {
     "name": "stdout",
     "output_type": "stream",
     "text": [
      "   id          name  math  english  science\n",
      "0   1  Alice Newman    90       88       95\n",
      "1   2     Bob James    85       92       89\n",
      "<class 'pandas.core.frame.DataFrame'>\n",
      "RangeIndex: 2 entries, 0 to 1\n",
      "Data columns (total 7 columns):\n",
      " #   Column      Non-Null Count  Dtype \n",
      "---  ------      --------------  ----- \n",
      " 0   id          2 non-null      int64 \n",
      " 1   name        2 non-null      object\n",
      " 2   math        2 non-null      int64 \n",
      " 3   english     2 non-null      int64 \n",
      " 4   science     2 non-null      int64 \n",
      " 5   first_name  2 non-null      object\n",
      " 6   last_name   2 non-null      object\n",
      "dtypes: int64(4), object(3)\n",
      "memory usage: 240.0+ bytes\n",
      "   id          name  math  english  science first_name last_name\n",
      "0   1  Alice Newman    90       88       95      Alice    Newman\n",
      "1   2     Bob James    85       92       89        Bob     James\n"
     ]
    }
   ],
   "source": [
    "data = {\n",
    "    'id': [1, 2],\n",
    "    'name': ['Alice Newman', 'Bob James'],\n",
    "    'math': [90, 85],\n",
    "    'english': [88, 92],\n",
    "    'science': [95, 89]\n",
    "}\n",
    "df = pd.DataFrame(data)\n",
    "print(df)\n",
    "# 列值分割\n",
    "df[['first_name', 'last_name']] = df.name.str.split(' ', expand=True)  # str为Series的字符串选择器\n",
    "df.info()\n",
    "print(df)"
   ],
   "metadata": {
    "collapsed": false,
    "pycharm": {
     "name": "#%%\n"
    }
   }
  },
  {
   "cell_type": "markdown",
   "source": [
    "### 3.5 数据分箱"
   ],
   "metadata": {
    "collapsed": false,
    "pycharm": {
     "name": "#%% md\n"
    }
   }
  },
  {
   "cell_type": "code",
   "execution_count": 131,
   "outputs": [
    {
     "name": "stdout",
     "output_type": "stream",
     "text": [
      "    id name  salary\n",
      "0  101   n1   10000\n",
      "1  102   n2   11000\n",
      "2  103   n3    8000\n",
      "3  104   n4    6000\n",
      "4  105   n5    4000\n",
      "5  106   n6   10000\n",
      "    id  salary\n",
      "0  101   10000\n",
      "1  102   11000\n",
      "2  103    8000\n",
      "3  104    6000\n",
      "4  105    4000\n",
      "5  106   10000\n",
      "0     (8666.667, 11000.0]\n",
      "1     (8666.667, 11000.0]\n",
      "2    (6333.333, 8666.667]\n",
      "3      (3993.0, 6333.333]\n",
      "4      (3993.0, 6333.333]\n",
      "5     (8666.667, 11000.0]\n",
      "Name: salary, dtype: category\n",
      "Categories (3, interval[float64, right]): [(3993.0, 6333.333] < (6333.333, 8666.667] < (8666.667, 11000.0]]\n",
      "0    (9000, 12000]\n",
      "1    (9000, 12000]\n",
      "2     (6000, 9000]\n",
      "3     (3000, 6000]\n",
      "4     (3000, 6000]\n",
      "5    (9000, 12000]\n",
      "Name: salary, dtype: category\n",
      "Categories (3, interval[int64, right]): [(3000, 6000] < (6000, 9000] < (9000, 12000]]\n",
      "0      high\n",
      "1      high\n",
      "2    median\n",
      "3       low\n",
      "4       low\n",
      "5      high\n",
      "Name: salary, dtype: category\n",
      "Categories (3, object): ['low' < 'median' < 'high']\n",
      "(3999.999, 6500.0]    2\n",
      "(9000.0, 10000.0]     2\n",
      "(6500.0, 9000.0]      1\n",
      "(10000.0, 11000.0]    1\n",
      "Name: salary, dtype: int64\n"
     ]
    }
   ],
   "source": [
    "data = {\n",
    "    'id': [101, 102, 103, 104, 105, 106],\n",
    "    'name': ['n1', 'n2', 'n3', 'n4', 'n5', 'n6'],\n",
    "    'salary': [10000, 11000, 8000, 6000, 4000, 10000]\n",
    "}\n",
    "df = pd.DataFrame(data)\n",
    "print(df)\n",
    "df1 = df[['id', 'salary']]\n",
    "print(df1)\n",
    "# 分成n段区间\n",
    "print(pd.cut(df1['salary'], bins=3))\n",
    "# 按指定数值分区\n",
    "print(pd.cut(df1['salary'], bins=[3000, 6000, 9000, 12000]))\n",
    "# 指定区间名称\n",
    "print(pd.cut(\n",
    "    df1['salary'],\n",
    "    bins=[3000, 6000, 9000, 12000],\n",
    "    labels=['low', 'median', 'high']\n",
    "))\n",
    "# 按分位数分区\n",
    "print(pd.qcut(df1['salary'], 4).value_counts())"
   ],
   "metadata": {
    "collapsed": false,
    "pycharm": {
     "name": "#%%\n"
    }
   }
  },
  {
   "cell_type": "code",
   "execution_count": 132,
   "outputs": [
    {
     "name": "stdout",
     "output_type": "stream",
     "text": [
      "    id  salary   level\n",
      "0  101   10000    high\n",
      "1  102   11000    high\n",
      "2  103    8000  median\n",
      "3  104    6000     low\n",
      "4  105    4000     low\n",
      "5  106   10000    high\n",
      "category\n"
     ]
    }
   ],
   "source": [
    "df1['level'] = pd.cut(\n",
    "    df1['salary'],\n",
    "    bins=[3000, 6000, 9000, 12000],\n",
    "    labels=['low', 'median', 'high']\n",
    ")\n",
    "print(df1)\n",
    "print(df1.level.dtype)  # 分箱统计值为类别类型"
   ],
   "metadata": {
    "collapsed": false,
    "pycharm": {
     "name": "#%%\n"
    }
   }
  },
  {
   "cell_type": "code",
   "execution_count": 133,
   "outputs": [
    {
     "name": "stdout",
     "output_type": "stream",
     "text": [
      "    id name  salary\n",
      "0  101   n1   10000\n",
      "1  102   n2   11000\n",
      "2  103   n3    8000\n",
      "3  104   n4    6000\n",
      "4  105   n5    4000\n",
      "5  106   n6   10000\n",
      "    name  salary\n",
      "id              \n",
      "101   n1   10000\n",
      "102   n2   11000\n",
      "103   n3    8000\n",
      "104   n4    6000\n",
      "105   n5    4000\n",
      "106   n6   10000\n",
      "    name  salary\n",
      "id              \n",
      "101   n1   10000\n",
      "102   n2   11000\n",
      "103   n3    8000\n",
      "104   n4    6000\n",
      "105   n5    4000\n",
      "106   n6   10000\n",
      "    id name  salary\n",
      "0  101   n1   10000\n",
      "1  102   n2   11000\n",
      "2  103   n3    8000\n",
      "3  104   n4    6000\n",
      "4  105   n5    4000\n",
      "5  106   n6   10000\n",
      "    uid uname  salary\n",
      "10  101    n1   10000\n",
      "1   102    n2   11000\n",
      "2   103    n3    8000\n",
      "3   104    n4    6000\n",
      "4   105    n5    4000\n",
      "5   106    n6   10000\n",
      "    id name  salary\n",
      "0  101   n1   10000\n",
      "1  102   n2   11000\n",
      "2  103   n3    8000\n",
      "3  104   n4    6000\n",
      "4  105   n5    4000\n",
      "5  106   n6   10000\n"
     ]
    }
   ],
   "source": [
    "print(df)\n",
    "# 将指定列设置为索引，返回新DataFrame\n",
    "print(df.set_index('id'))\n",
    "# 修改原DataFrame\n",
    "df.set_index('id', inplace=True)\n",
    "print(df)\n",
    "# 还原DataFrame\n",
    "df.reset_index(inplace=True)\n",
    "print(df)\n",
    "# 修改索引、列名\n",
    "df.rename(index={0: 10}, columns={\"id\": 'uid', \"name\": \"uname\"}, inplace=True)\n",
    "print(df)\n",
    "\n",
    "df.index = [0, 1, 2, 3, 4, 5]\n",
    "df.columns = [\"id\", \"name\", \"salary\"]\n",
    "print(df)"
   ],
   "metadata": {
    "collapsed": false,
    "pycharm": {
     "name": "#%%\n"
    }
   }
  },
  {
   "cell_type": "markdown",
   "source": [
    "### 3.6 时间数据处理"
   ],
   "metadata": {
    "collapsed": false,
    "pycharm": {
     "name": "#%% md\n"
    }
   }
  },
  {
   "cell_type": "code",
   "execution_count": 134,
   "outputs": [
    {
     "name": "stdout",
     "output_type": "stream",
     "text": [
      "2025-09-03 08:00:00 <class 'pandas._libs.tslibs.timestamps.Timestamp'>\n",
      "year: 2025\n",
      "month: 9\n",
      "day: 3\n",
      "time: 8 0 0\n",
      "is_leap_year: False\n",
      "weekday: Wednesday\n",
      "time in days: 2025-09-03\n",
      "time in quarter: 2025Q3\n",
      "time in year: 2025\n",
      "time in week: 2025-09-01/2025-09-07\n"
     ]
    }
   ],
   "source": [
    "# Timestamp类型\n",
    "ts = pd.Timestamp('2025-09-03 08:00:00')\n",
    "print(ts, type(ts))\n",
    "print('year:', ts.year)\n",
    "print('month:', ts.month)\n",
    "print('day:', ts.day)\n",
    "print('time:', ts.hour, ts.minute, ts.second)\n",
    "print('is_leap_year:', ts.is_leap_year)\n",
    "print('weekday:', ts.day_name())\n",
    "# 转换为指定period\n",
    "print('time in days:', ts.to_period('D'))\n",
    "print('time in quarter:', ts.to_period('Q'))\n",
    "print('time in year:', ts.to_period('Y'))\n",
    "print('time in week:', ts.to_period('W'))"
   ],
   "metadata": {
    "collapsed": false,
    "pycharm": {
     "name": "#%%\n"
    }
   }
  },
  {
   "cell_type": "code",
   "execution_count": 135,
   "outputs": [
    {
     "name": "stdout",
     "output_type": "stream",
     "text": [
      "   Unnamed: 0 name      time                          date\n",
      "0           0   n1  20250901 1970-01-01 00:00:00.020250901\n",
      "1           1   n2  20250902 1970-01-01 00:00:00.020250902\n",
      "2           2   n3  20250903 1970-01-01 00:00:00.020250903\n",
      "0   1970-01-01 00:00:00.020250901\n",
      "1   1970-01-01 00:00:00.020250902\n",
      "2   1970-01-01 00:00:00.020250903\n",
      "Name: date, dtype: datetime64[ns]\n",
      "   Unnamed: 0 name      time                          date      week\n",
      "0           0   n1  20250901 1970-01-01 00:00:00.020250901  Thursday\n",
      "1           1   n2  20250902 1970-01-01 00:00:00.020250902  Thursday\n",
      "2           2   n3  20250903 1970-01-01 00:00:00.020250903  Thursday\n"
     ]
    }
   ],
   "source": [
    "# 字符串转日期类型\n",
    "df = pd.read_csv('../file/time.csv')\n",
    "df['date'] = pd.to_datetime(df['time'])\n",
    "print(df)\n",
    "print(df.date)\n",
    "df['week'] = df['date'].dt.day_name()  # dt为Series时间选择器\n",
    "print(df)"
   ],
   "metadata": {
    "collapsed": false,
    "pycharm": {
     "name": "#%%\n"
    }
   }
  },
  {
   "cell_type": "code",
   "execution_count": 137,
   "outputs": [
    {
     "name": "stdout",
     "output_type": "stream",
     "text": [
      "   Unnamed: 0 name       time\n",
      "0           0   n1 2025-09-01\n",
      "1           1   n2 2025-09-02\n",
      "2           2   n3 2025-09-03\n",
      "<class 'pandas.core.frame.DataFrame'>\n",
      "RangeIndex: 3 entries, 0 to 2\n",
      "Data columns (total 3 columns):\n",
      " #   Column      Non-Null Count  Dtype         \n",
      "---  ------      --------------  -----         \n",
      " 0   Unnamed: 0  3 non-null      int64         \n",
      " 1   name        3 non-null      object        \n",
      " 2   time        3 non-null      datetime64[ns]\n",
      "dtypes: datetime64[ns](1), int64(1), object(1)\n",
      "memory usage: 200.0+ bytes\n",
      "None\n"
     ]
    }
   ],
   "source": [
    "# 读取时将知道你个列转换为时间类型\n",
    "df = pd.read_csv('../file/time.csv', parse_dates=['time'])\n",
    "print(df)\n",
    "print(df.info())"
   ],
   "metadata": {
    "collapsed": false,
    "pycharm": {
     "name": "#%%\n"
    }
   }
  },
  {
   "cell_type": "code",
   "execution_count": 141,
   "outputs": [
    {
     "name": "stdout",
     "output_type": "stream",
     "text": [
      "        Unnamed: 0 name       time  delta\n",
      "delta                                    \n",
      "0 days           0   n1 2025-09-01 0 days\n",
      "1 days           1   n2 2025-09-02 1 days\n",
      "2 days           2   n3 2025-09-03 2 days\n",
      "        Unnamed: 0 name       time\n",
      "delta                             \n",
      "1 days           1   n2 2025-09-02\n",
      "2 days           2   n3 2025-09-03\n"
     ]
    }
   ],
   "source": [
    "# 时间间隔\n",
    "df['delta'] = df['time'] - df['time'][0]\n",
    "print(df)\n",
    "df.set_index('delta', inplace=True)\n",
    "print(df.loc[\"1 days\":\"2 days\"])"
   ],
   "metadata": {
    "collapsed": false,
    "pycharm": {
     "name": "#%%\n"
    }
   }
  },
  {
   "cell_type": "markdown",
   "source": [
    "### 3.7 分组聚合"
   ],
   "metadata": {
    "collapsed": false,
    "pycharm": {
     "name": "#%% md\n"
    }
   }
  },
  {
   "cell_type": "code",
   "execution_count": 169,
   "outputs": [
    {
     "name": "stdout",
     "output_type": "stream",
     "text": [
      "    id name  salary  d_id\n",
      "0  101   n1   10000    11\n",
      "1  102   n2    4000    11\n",
      "2  103   n3    7000    12\n",
      "3  104   n4   11000    12\n",
      "4  105   n5    9000    11\n",
      "5  106   n6    5500    12\n",
      "{11: [0, 1, 4], 12: [2, 3, 5]}\n",
      "---------------\n",
      "    id name  salary  d_id\n",
      "0  101   n1   10000    11\n",
      "1  102   n2    4000    11\n",
      "4  105   n5    9000    11\n",
      "---------------\n",
      "d_id\n",
      "11    23000\n",
      "12    23500\n",
      "Name: salary, dtype: int64\n",
      "---------------\n",
      "       salary\n",
      "d_id         \n",
      "11    7666.67\n",
      "12    7833.33\n",
      "<pandas.core.groupby.generic.SeriesGroupBy object at 0x00000135C7AFB388>\n"
     ]
    }
   ],
   "source": [
    "# groupby('分组字段')['聚合字段'].聚合方法()\n",
    "data = {\n",
    "    'id': [101, 102, 103, 104, 105, 106],\n",
    "    'name': ['n1', 'n2', 'n3', 'n4', 'n5', 'n6'],\n",
    "    'salary': [10000, 4000, 7000, 11000, 9000, 5500],\n",
    "    'd_id': [11, 11, 12, 12, 11, 12]\n",
    "}\n",
    "df = pd.DataFrame(data)\n",
    "df.dropna(subset=['d_id'], inplace=True)\n",
    "# print(df.d_id.dtype)\n",
    "# df.d_id = df.d_id.astype('int32')\n",
    "print(df)\n",
    "print(df.groupby('d_id').groups)  # 查看分组情况\n",
    "print('-' * 15)\n",
    "print(df.groupby('d_id').get_group(11))  # 查看具体分组的数据\n",
    "print('-' * 15)\n",
    "# 分组聚合\n",
    "print(df.groupby('d_id')['salary'].sum())\n",
    "print('-' * 15)\n",
    "print(df.groupby('d_id')[['salary']].mean().round(2))  # DataFrame\n",
    "\n",
    "# print(df.groupby(['d_id']))  # SeriesGroupBy\n",
    "# print(df.groupby('d_id'))  # DataFrameGroupBy\n",
    "# print(df.groupby('d_id')['salary'])  # SeriesGroupBy\n",
    "# print(df.groupby('d_id')[['salary']])  # DataFrameGroupBy"
   ],
   "metadata": {
    "collapsed": false,
    "pycharm": {
     "name": "#%%\n"
    }
   }
  },
  {
   "cell_type": "code",
   "execution_count": 175,
   "outputs": [
    {
     "data": {
      "text/plain": "           salary               name\n             mean    sum count count\nd_id                                \n11    7666.666667  23000     3     3\n12    7833.333333  23500     3     3",
      "text/html": "<div>\n<style scoped>\n    .dataframe tbody tr th:only-of-type {\n        vertical-align: middle;\n    }\n\n    .dataframe tbody tr th {\n        vertical-align: top;\n    }\n\n    .dataframe thead tr th {\n        text-align: left;\n    }\n\n    .dataframe thead tr:last-of-type th {\n        text-align: right;\n    }\n</style>\n<table border=\"1\" class=\"dataframe\">\n  <thead>\n    <tr>\n      <th></th>\n      <th colspan=\"3\" halign=\"left\">salary</th>\n      <th>name</th>\n    </tr>\n    <tr>\n      <th></th>\n      <th>mean</th>\n      <th>sum</th>\n      <th>count</th>\n      <th>count</th>\n    </tr>\n    <tr>\n      <th>d_id</th>\n      <th></th>\n      <th></th>\n      <th></th>\n      <th></th>\n    </tr>\n  </thead>\n  <tbody>\n    <tr>\n      <th>11</th>\n      <td>7666.666667</td>\n      <td>23000</td>\n      <td>3</td>\n      <td>3</td>\n    </tr>\n    <tr>\n      <th>12</th>\n      <td>7833.333333</td>\n      <td>23500</td>\n      <td>3</td>\n      <td>3</td>\n    </tr>\n  </tbody>\n</table>\n</div>"
     },
     "execution_count": 175,
     "metadata": {},
     "output_type": "execute_result"
    }
   ],
   "source": [
    "df.groupby(['d_id']).agg({\n",
    "    'salary': ['mean', 'sum', 'count'],\n",
    "    'name': ['count']\n",
    "})"
   ],
   "metadata": {
    "collapsed": false,
    "pycharm": {
     "name": "#%%\n"
    }
   }
  }
 ],
 "metadata": {
  "kernelspec": {
   "display_name": "Python 3",
   "language": "python",
   "name": "python3"
  },
  "language_info": {
   "codemirror_mode": {
    "name": "ipython",
    "version": 2
   },
   "file_extension": ".py",
   "mimetype": "text/x-python",
   "name": "python",
   "nbconvert_exporter": "python",
   "pygments_lexer": "ipython2",
   "version": "2.7.6"
  }
 },
 "nbformat": 4,
 "nbformat_minor": 0
}