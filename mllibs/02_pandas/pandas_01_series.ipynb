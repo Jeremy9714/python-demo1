{
 "cells": [
  {
   "cell_type": "markdown",
   "metadata": {
    "collapsed": true,
    "pycharm": {
     "name": "#%% md\n"
    }
   },
   "source": [
    "# <span style=\"color:white\">pandas是python数据分析核心库，充当数据读取、清洗、分析、统计、输出的高效工具</span>\n",
    "\n",
    "## 1. Series\n",
    "### 1.1 Series的创建"
   ]
  },
  {
   "cell_type": "code",
   "execution_count": 63,
   "outputs": [
    {
     "name": "stdout",
     "output_type": "stream",
     "text": [
      "<class 'pandas.core.series.Series'> 0    11\n",
      "1    12\n",
      "2    13\n",
      "3    14\n",
      "4    15\n",
      "dtype: int64\n",
      "----------------------\n",
      "A    11.0\n",
      "B    12.0\n",
      "C    13.0\n",
      "D    14.0\n",
      "E    15.0\n",
      "dtype: float64\n",
      "----------------------\n",
      "A    11\n",
      "B    12\n",
      "C    13\n",
      "D    14\n",
      "E    15\n",
      "Name: sample, dtype: int64\n"
     ]
    }
   ],
   "source": [
    "import numpy as np\n",
    "import pandas as pd\n",
    "\n",
    "s = pd.Series([11, 12, 13, 14, 15])\n",
    "print(type(s), s)\n",
    "print(\"----------------------\")\n",
    "\n",
    "# 自定义索引、元素类型\n",
    "s = pd.Series([11, 12, 13, 14, 15], index=['A', 'B', 'C', 'D', 'E'], dtype=float)\n",
    "print(s)\n",
    "print(\"----------------------\")\n",
    "\n",
    "# 自定义名称\n",
    "s = pd.Series([11, 12, 13, 14, 15], index=['A', 'B', 'C', 'D', 'E'], name='sample')\n",
    "print(s)"
   ],
   "metadata": {
    "collapsed": false,
    "pycharm": {
     "name": "#%%\n"
    }
   }
  },
  {
   "cell_type": "code",
   "execution_count": 64,
   "outputs": [
    {
     "name": "stdout",
     "output_type": "stream",
     "text": [
      "A    11\n",
      "B    12\n",
      "dtype: int64\n",
      "----------------------\n",
      "A    11\n",
      "dtype: int64\n"
     ]
    }
   ],
   "source": [
    "# 通过字典创建\n",
    "s = pd.Series({\"A\": 11, \"B\": 12})\n",
    "print(s)\n",
    "print(\"----------------------\")\n",
    "\n",
    "# 通过Series创建\n",
    "s = pd.Series(s, index=['A'])  # 指定索引\n",
    "print(s)"
   ],
   "metadata": {
    "collapsed": false,
    "pycharm": {
     "name": "#%%\n"
    }
   }
  },
  {
   "cell_type": "markdown",
   "source": [
    "### 1.2 Series的属性"
   ],
   "metadata": {
    "collapsed": false,
    "pycharm": {
     "name": "#%% md\n"
    }
   }
  },
  {
   "cell_type": "code",
   "execution_count": 65,
   "outputs": [
    {
     "name": "stdout",
     "output_type": "stream",
     "text": [
      "a    1\n",
      "b    2\n",
      "c    3\n",
      "d    4\n",
      "e    5\n",
      "dtype: int64\n",
      "[1 2 3 4 5]\n",
      "Index(['a', 'b', 'c', 'd', 'e'], dtype='object')\n",
      "(5,) 1 sample\n",
      "===========================\n",
      "a    1\n",
      "b    2\n",
      "c    3\n",
      "Name: sample, dtype: int64\n",
      "b    2\n",
      "c    3\n",
      "Name: sample, dtype: int64\n",
      "===========================\n",
      "1\n",
      "3\n"
     ]
    }
   ],
   "source": [
    "\n",
    "s = pd.Series([1, 2, 3, 4, 5], index=['a', 'b', 'c', 'd', 'e'])\n",
    "print(s)\n",
    "print(s.values)  # Series值\n",
    "print(s.index)  # Series索引\n",
    "s.name = 'sample'\n",
    "print(s.shape, s.ndim, s.name)  # Series形状、维度、名称\n",
    "print('===========================')\n",
    "print(s.loc['a':'c'])  # 显式索引，按标签索引或切片\n",
    "print(s.iloc[1:3])  # 隐式索引，按位置索引或切片\n",
    "print('===========================')\n",
    "print(s.at['a'])  # 使用标签访问单个元素\n",
    "print(s.iat[2])  # 使用位置访问单个元素"
   ],
   "metadata": {
    "collapsed": false,
    "pycharm": {
     "name": "#%%\n"
    }
   }
  },
  {
   "cell_type": "code",
   "execution_count": 66,
   "outputs": [
    {
     "name": "stdout",
     "output_type": "stream",
     "text": [
      "2\n",
      "1\n",
      "b    2\n",
      "c    3\n",
      "Name: sample, dtype: int64\n",
      "a    1\n",
      "b    2\n",
      "c    3\n",
      "Name: sample, dtype: int64\n",
      "d    4\n",
      "e    5\n",
      "f    6\n",
      "Name: sample, dtype: int64\n"
     ]
    }
   ],
   "source": [
    "# 访问数据\n",
    "print(s[1])\n",
    "print(s['a'])\n",
    "print(s[(s > 1) & (s < 4)])  # 支持布尔条件\n",
    "s['f'] = 6\n",
    "print(s.head(3))  # 前n行数据(默认5)\n",
    "print(s.tail(3))  # 后n行数据(默认5)"
   ],
   "metadata": {
    "collapsed": false,
    "pycharm": {
     "name": "#%%\n"
    }
   }
  },
  {
   "cell_type": "markdown",
   "source": [
    "### 1.3 Series常用方法"
   ],
   "metadata": {
    "collapsed": false
   }
  },
  {
   "cell_type": "code",
   "execution_count": 67,
   "outputs": [
    {
     "name": "stdout",
     "output_type": "stream",
     "text": [
      "count     4.000000\n",
      "mean      5.500000\n",
      "std       3.696846\n",
      "min       2.000000\n",
      "25%       2.750000\n",
      "50%       5.000000\n",
      "75%       7.750000\n",
      "max      10.000000\n",
      "Name: data, dtype: float64\n",
      "5.5\n",
      "5.0\n",
      "22.0\n",
      "3.696845502136472\n",
      "13.666666666666666\n",
      "2.0\n",
      "10.0\n",
      "--------------------\n"
     ]
    }
   ],
   "source": [
    "import numpy as np\n",
    "\n",
    "s = pd.Series([10, 2, 7, np.NaN, None, 3],\n",
    "              index=['a', 'b', 'c', 'd', 'e', 'f'],\n",
    "              name='data')\n",
    "\n",
    "# s.head()  # 前n行数据(默认5)\n",
    "# s.tail(10)  # 后n行数据(默认5)\n",
    "print(s.describe())  # 打印描述性信息\n",
    "print(s.mean())\n",
    "print(s.median())\n",
    "print(s.sum())\n",
    "print(s.std())\n",
    "print(s.var())\n",
    "print(s.min())\n",
    "print(s.max())\n",
    "print(\"--------------------\")"
   ],
   "metadata": {
    "collapsed": false,
    "pycharm": {
     "name": "#%%\n"
    }
   }
  },
  {
   "cell_type": "code",
   "execution_count": 68,
   "outputs": [
    {
     "name": "stdout",
     "output_type": "stream",
     "text": [
      "Index(['a', 'b', 'c', 'd', 'e', 'f'], dtype='object')\n",
      "Index(['a', 'b', 'c', 'd', 'e', 'f'], dtype='object')\n",
      "a    False\n",
      "b    False\n",
      "c    False\n",
      "d     True\n",
      "e     True\n",
      "f    False\n",
      "Name: data, dtype: bool\n",
      "a    False\n",
      "b     True\n",
      "c    False\n",
      "d    False\n",
      "e    False\n",
      "f     True\n",
      "Name: data, dtype: bool\n"
     ]
    }
   ],
   "source": [
    "print(s.index)  # 属性 获取索引\n",
    "print(s.keys())  # 方法 获取索引\n",
    "print(s.isna())  # 检查每个元素是否为缺失值\n",
    "print(s.isin([1, 2, 3]))  # 检查每个元素是否在参数集合中"
   ],
   "metadata": {
    "collapsed": false,
    "pycharm": {
     "name": "#%%\n"
    }
   }
  },
  {
   "cell_type": "code",
   "execution_count": 69,
   "outputs": [
    {
     "name": "stdout",
     "output_type": "stream",
     "text": [
      "b     2.0\n",
      "f     3.0\n",
      "c     7.0\n",
      "a    10.0\n",
      "d     NaN\n",
      "e     NaN\n",
      "Name: data, dtype: float64\n",
      "7.75\n",
      "0    2.0\n",
      "dtype: float64\n",
      "2.0     2\n",
      "10.0    1\n",
      "7.0     1\n",
      "3.0     1\n",
      "Name: data, dtype: int64\n",
      "a    10.0\n",
      "b     2.0\n",
      "c     7.0\n",
      "d     NaN\n",
      "f     3.0\n",
      "Name: data, dtype: float64\n",
      "[10.  2.  7. nan  3.]\n",
      "4\n"
     ]
    }
   ],
   "source": [
    "print(s.sort_values())  # 排序 NaN忽略\n",
    "print(s.quantile(0.75))  # 分位数\n",
    "s['g'] = 2\n",
    "print(s.mode())  # 众数\n",
    "print(s.value_counts())  # 元素出现次数\n",
    "print(s.drop_duplicates())  # 去重并返回Series\n",
    "print(s.unique())  # 去重并返回List\n",
    "print(s.nunique())  # 去重后元素个数"
   ],
   "metadata": {
    "collapsed": false,
    "pycharm": {
     "name": "#%%\n"
    }
   }
  },
  {
   "cell_type": "code",
   "execution_count": 70,
   "outputs": [
    {
     "name": "stdout",
     "output_type": "stream",
     "text": [
      "a    10.0\n",
      "b     2.0\n",
      "c     7.0\n",
      "d     NaN\n",
      "e     NaN\n",
      "f     3.0\n",
      "g     2.0\n",
      "Name: data, dtype: float64\n",
      "b     2.0\n",
      "g     2.0\n",
      "f     3.0\n",
      "c     7.0\n",
      "a    10.0\n",
      "d     NaN\n",
      "e     NaN\n",
      "Name: data, dtype: float64\n"
     ]
    }
   ],
   "source": [
    "print(s.sort_index())  # 按索引排序\n",
    "print(s.sort_values())  # 按元素排序"
   ],
   "metadata": {
    "collapsed": false,
    "pycharm": {
     "name": "#%%\n"
    }
   }
  },
  {
   "cell_type": "markdown",
   "source": [
    "### 1.4 Series案例"
   ],
   "metadata": {
    "collapsed": false,
    "pycharm": {
     "name": "#%% md\n"
    }
   }
  },
  {
   "cell_type": "code",
   "execution_count": 71,
   "outputs": [
    {
     "name": "stdout",
     "output_type": "stream",
     "text": [
      "student1     87\n",
      "student2     87\n",
      "student3     95\n",
      "student4     95\n",
      "student5     62\n",
      "student6     73\n",
      "student7     52\n",
      "student8     67\n",
      "student9     96\n",
      "student10    53\n",
      "dtype: int32\n",
      "76.7\n",
      "96\n",
      "52\n",
      "5\n",
      "5\n"
     ]
    }
   ],
   "source": [
    "\"\"\"\n",
    "创建一个包含10名学生数学成绩的Series, 成绩范围在50-100之间. 计算平均分、\n",
    "最高分、最低分, 并找出高于平均分的学生人数\n",
    "\"\"\"\n",
    "np.random.seed(30)\n",
    "scores = pd.Series(\n",
    "    np.random.randint(50, 101, 10),\n",
    "    index=['student' + str(i) for i in range(1, 11)])\n",
    "print(scores)\n",
    "print(scores.mean())\n",
    "print(scores.max())\n",
    "print(scores.min())\n",
    "print(scores[scores < scores.mean()].count())\n",
    "print(len(scores[scores < scores.mean()]))"
   ],
   "metadata": {
    "collapsed": false,
    "pycharm": {
     "name": "#%%\n"
    }
   }
  },
  {
   "cell_type": "code",
   "execution_count": 72,
   "outputs": [
    {
     "name": "stdout",
     "output_type": "stream",
     "text": [
      "周一    28\n",
      "周二    31\n",
      "周三    29\n",
      "周四    32\n",
      "周五    30\n",
      "周六    27\n",
      "周日    33\n",
      "dtype: int64\n",
      "温度高于30度的天数: 3\n",
      "平均温度: 30.0\n",
      "高到低排序: 周日    33\n",
      "周四    32\n",
      "周二    31\n",
      "周五    30\n",
      "周三    29\n",
      "周一    28\n",
      "周六    27\n",
      "dtype: int64\n",
      "变化最大的两天: ['周日', '周二']\n"
     ]
    }
   ],
   "source": [
    "\"\"\"\n",
    "给定一周每天的最高温度Series. 找出温度超过30度的天数、计算平均温度、\n",
    "将温度从高到低排序、找出温度变化最大的两天\n",
    "\"\"\"\n",
    "temperatures = pd.Series(\n",
    "    [28, 31, 29, 32, 30, 27, 33],\n",
    "    index=['周一', '周二', '周三', '周四', '周五', '周六', '周日'])\n",
    "print(temperatures)\n",
    "print('温度高于30度的天数:', temperatures[temperatures > 30].count())\n",
    "print('平均温度:', temperatures.mean())\n",
    "print('高到低排序:', temperatures.sort_values(ascending=False))\n",
    "temperatures.diff()  # 计算元素变化值\n",
    "print('变化最大的两天:', temperatures.diff().abs()\n",
    "      .sort_values(ascending=False)\n",
    "      .keys()[:2]\n",
    "      .tolist())"
   ],
   "metadata": {
    "collapsed": false,
    "pycharm": {
     "name": "#%%\n"
    }
   }
  },
  {
   "cell_type": "code",
   "execution_count": 73,
   "outputs": [
    {
     "name": "stdout",
     "output_type": "stream",
     "text": [
      "2025-09-01    102.3\n",
      "2025-09-02    103.5\n",
      "2025-09-03    105.1\n",
      "2025-09-04    104.8\n",
      "2025-09-05    106.2\n",
      "2025-09-06    107.0\n",
      "2025-09-07    106.5\n",
      "2025-09-08    108.1\n",
      "2025-09-09    109.3\n",
      "2025-09-10    110.2\n",
      "Freq: D, dtype: float64\n",
      "收益率: 2025-09-01         NaN\n",
      "2025-09-02    0.011730\n",
      "2025-09-03    0.015459\n",
      "2025-09-04   -0.002854\n",
      "2025-09-05    0.013359\n",
      "2025-09-06    0.007533\n",
      "2025-09-07   -0.004673\n",
      "2025-09-08    0.015023\n",
      "2025-09-09    0.011101\n",
      "2025-09-10    0.008234\n",
      "Freq: D, dtype: float64\n",
      "最高收益率日期: 2025-09-03 00:00:00\n",
      "最第收益率日期: 2025-09-07 00:00:00\n",
      "波动率: 0.007373623845361105\n"
     ]
    }
   ],
   "source": [
    "\"\"\"\n",
    "给定某股票连续10个交易日的收盘价Series. 计算每日收益率(当日收盘价-前日收盘价-1)、\n",
    "找出收益率最高和最低的日期、计算波动值(收益率的标准差)\n",
    "\"\"\"\n",
    "stocks = pd.Series(\n",
    "    [102.3, 103.5, 105.1, 104.8, 106.2, 107.0, 106.5, 108.1, 109.3, 110.2],\n",
    "    index=pd.date_range('2025-09-01', periods=10))\n",
    "print(stocks)\n",
    "yields = stocks.pct_change()  # 收益率计算\n",
    "print('收益率:', yields)\n",
    "# print('最高收益率日期:', yields[yields == yields.max()].keys())\n",
    "print('最高收益率日期:', yields.idxmax())  # 最大值的标签\n",
    "# print('最第收益率日期:', yields[yields == yields.min()].keys())\n",
    "print('最第收益率日期:', yields.idxmin())  # 最小值的标签\n",
    "print('波动率:', yields.std())"
   ],
   "metadata": {
    "collapsed": false,
    "pycharm": {
     "name": "#%%\n"
    }
   }
  },
  {
   "cell_type": "code",
   "execution_count": 79,
   "outputs": [
    {
     "name": "stdout",
     "output_type": "stream",
     "text": [
      "2025-09-01    125\n",
      "2025-10-01    135\n",
      "2025-11-01    145\n",
      "2025-12-01    160\n",
      "2026-01-01    155\n",
      "2026-02-01    170\n",
      "2026-03-01    180\n",
      "2026-04-01    175\n",
      "2026-05-01    190\n",
      "2026-06-01    200\n",
      "2026-07-01    210\n",
      "2026-08-01    220\n",
      "Freq: MS, dtype: int64\n",
      "季度平均销量: 2025-07-01    125.000000\n",
      "2025-10-01    146.666667\n",
      "2026-01-01    168.333333\n",
      "2026-04-01    188.333333\n",
      "2026-07-01    215.000000\n",
      "Freq: QS-JAN, dtype: float64\n",
      "销量最高月份: 2026-08-01 00:00:00\n",
      "月环比增长率: 2025-09-01         NaN\n",
      "2025-10-01    0.080000\n",
      "2025-11-01    0.074074\n",
      "2025-12-01    0.103448\n",
      "2026-01-01   -0.031250\n",
      "2026-02-01    0.096774\n",
      "2026-03-01    0.058824\n",
      "2026-04-01   -0.027778\n",
      "2026-05-01    0.085714\n",
      "2026-06-01    0.052632\n",
      "2026-07-01    0.050000\n",
      "2026-08-01    0.047619\n",
      "Freq: MS, dtype: float64\n",
      "连续增长超过两个月的月份: [Timestamp('2025-12-01 00:00:00'), Timestamp('2026-07-01 00:00:00'), Timestamp('2026-08-01 00:00:00')]\n"
     ]
    }
   ],
   "source": [
    "\"\"\"\n",
    "产品过去12个月的销售量Series. 计算季度平均销量、找出销量最高的月份、\n",
    "计算月环比增长率(与上个月比较)、找出连续增长超过两个月的月份\n",
    "\"\"\"\n",
    "sales = pd.Series(\n",
    "    [125, 135, 145, 160, 155, 170, 180, 175, 190, 200, 210, 220],\n",
    "    index=pd.date_range('2025-09-01', periods=12, freq='MS'))\n",
    "print(sales)\n",
    "print('季度平均销量:', sales.resample('QS').mean())  # 重采样\n",
    "print('销量最高月份:', sales.idxmax())\n",
    "print('月环比增长率:', sales.pct_change())\n",
    "temp = sales.pct_change() > 0  #  月环比是否增长\n",
    "print('连续增长超过两个月的月份:',\n",
    "      temp[temp.rolling(3).sum() == 3]  # 滚动窗口\n",
    "      .keys()\n",
    "      .tolist())"
   ],
   "metadata": {
    "collapsed": false,
    "pycharm": {
     "name": "#%%\n"
    }
   }
  },
  {
   "cell_type": "code",
   "execution_count": 99,
   "outputs": [
    {
     "name": "stdout",
     "output_type": "stream",
     "text": [
      "2025-09-01 00:00:00    37\n",
      "2025-09-01 01:00:00    37\n",
      "2025-09-01 02:00:00    45\n",
      "2025-09-01 03:00:00    45\n",
      "2025-09-01 04:00:00    12\n",
      "2025-09-01 05:00:00    23\n",
      "2025-09-01 06:00:00     2\n",
      "2025-09-01 07:00:00    53\n",
      "2025-09-01 08:00:00    17\n",
      "2025-09-01 09:00:00    46\n",
      "2025-09-01 10:00:00     3\n",
      "2025-09-01 11:00:00    41\n",
      "2025-09-01 12:00:00     7\n",
      "2025-09-01 13:00:00    65\n",
      "2025-09-01 14:00:00    49\n",
      "2025-09-01 15:00:00    45\n",
      "2025-09-01 16:00:00    61\n",
      "2025-09-01 17:00:00    35\n",
      "2025-09-01 18:00:00    18\n",
      "2025-09-01 19:00:00    18\n",
      "2025-09-01 20:00:00    76\n",
      "2025-09-01 21:00:00    16\n",
      "2025-09-01 22:00:00     6\n",
      "2025-09-01 23:00:00    62\n",
      "Freq: H, dtype: int32\n",
      "每日总销售额: 2025-09-01    819\n",
      "Freq: D, dtype: int32\n",
      "营业时间和非营业时间销售额比例: 1.5917721518987342\n",
      "销售额最高的三个小时: [Timestamp('2025-09-01 20:00:00'), Timestamp('2025-09-01 13:00:00'), Timestamp('2025-09-01 23:00:00')]\n"
     ]
    }
   ],
   "source": [
    "\"\"\"\n",
    "商店每小时销售额Series. 按天重采样计算每日总销售额、计算每天营业时间(08:00-22:00)\n",
    "和非营业时间的销售额比例、找出销售额最高的三个小时\n",
    "\"\"\"\n",
    "np.random.seed(30)\n",
    "hourly_sales = pd.Series(\n",
    "    np.random.randint(0, 100, 24),\n",
    "    index=pd.date_range('2025-09-01', periods=24, freq='H'))\n",
    "print(hourly_sales)\n",
    "print('每日总销售额:', hourly_sales.resample('D').sum())\n",
    "\n",
    "# 筛选一段时间内的Series\n",
    "# print(hourly_sales.between_time('08:00', '22:00'))\n",
    "# business_sales = hourly_sales[(hourly_sales.index.hour >= 8) & (hourly_sales.index.hour <= 22)]\n",
    "business_period = (hourly_sales.index.hour >= 8) & (hourly_sales.index.hour <= 22)\n",
    "business_sales = hourly_sales[business_period]\n",
    "\n",
    "# 删掉对应标签\n",
    "# non_business_sales = hourly_sales.drop(business_sales.index)\n",
    "non_business_sales = hourly_sales[~business_period]\n",
    "\n",
    "print('营业时间和非营业时间销售额比例:',\n",
    "      business_sales.sum() / non_business_sales.sum())\n",
    "print('销售额最高的三个小时:', hourly_sales.nlargest(3).keys().tolist())\n",
    "\n"
   ],
   "metadata": {
    "collapsed": false,
    "pycharm": {
     "name": "#%%\n"
    }
   }
  }
 ],
 "metadata": {
  "kernelspec": {
   "display_name": "Python 3",
   "language": "python",
   "name": "python3"
  },
  "language_info": {
   "codemirror_mode": {
    "name": "ipython",
    "version": 2
   },
   "file_extension": ".py",
   "mimetype": "text/x-python",
   "name": "python",
   "nbconvert_exporter": "python",
   "pygments_lexer": "ipython2",
   "version": "2.7.6"
  }
 },
 "nbformat": 4,
 "nbformat_minor": 0
}