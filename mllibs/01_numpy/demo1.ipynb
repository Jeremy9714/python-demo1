{
 "cells": [
  {
   "cell_type": "markdown",
   "metadata": {
    "collapsed": true,
    "pycharm": {
     "name": "#%% md\n"
    }
   },
   "source": [
    "# <span style=\"color:white\">numpy是python中科学计算基础包</span>\n",
    "## 1. ndarray"
   ]
  },
  {
   "cell_type": "code",
   "source": [
    "import numpy as np\n",
    "\n",
    "arr = np.array(5)  # 创建0维ndarray\n",
    "print(type(arr))\n",
    "print(arr.ndim)  # ndarray维度"
   ],
   "metadata": {
    "collapsed": false,
    "pycharm": {
     "name": "#%%\n"
    }
   },
   "execution_count": 345,
   "outputs": [
    {
     "name": "stdout",
     "output_type": "stream",
     "text": [
      "<class 'numpy.ndarray'>\n",
      "0\n"
     ]
    }
   ]
  },
  {
   "cell_type": "code",
   "execution_count": 346,
   "outputs": [
    {
     "name": "stdout",
     "output_type": "stream",
     "text": [
      "1\n"
     ]
    }
   ],
   "source": [
    "arr = np.array([1, 2, 3, 4])  # 创建1维ndarray\n",
    "print(arr.ndim)"
   ],
   "metadata": {
    "collapsed": false,
    "pycharm": {
     "name": "#%%\n"
    }
   }
  },
  {
   "cell_type": "code",
   "execution_count": 347,
   "outputs": [
    {
     "name": "stdout",
     "output_type": "stream",
     "text": [
      "2\n"
     ]
    }
   ],
   "source": [
    "arr = np.array([[1, 2, 3], [4, 5, 6]])  # 创建2维ndarray\n",
    "print(arr.ndim)"
   ],
   "metadata": {
    "collapsed": false,
    "pycharm": {
     "name": "#%%\n"
    }
   }
  },
  {
   "cell_type": "markdown",
   "source": [
    "### 1.1 同质性"
   ],
   "metadata": {
    "collapsed": false,
    "pycharm": {
     "name": "#%% md\n"
    }
   }
  },
  {
   "cell_type": "code",
   "execution_count": 348,
   "outputs": [
    {
     "name": "stdout",
     "output_type": "stream",
     "text": [
      "['1' 'a']\n"
     ]
    }
   ],
   "source": [
    "arr = np.array([1, 'a'])  # 不同数据类型会强制转换为相同数据类型\n",
    "print(arr)"
   ],
   "metadata": {
    "collapsed": false,
    "pycharm": {
     "name": "#%%\n"
    }
   }
  },
  {
   "cell_type": "code",
   "execution_count": 349,
   "outputs": [
    {
     "name": "stdout",
     "output_type": "stream",
     "text": [
      "[1.  2.5]\n"
     ]
    }
   ],
   "source": [
    "arr = np.array([1, 2.5])\n",
    "print(arr)"
   ],
   "metadata": {
    "collapsed": false,
    "pycharm": {
     "name": "#%%\n"
    }
   }
  },
  {
   "cell_type": "markdown",
   "source": [
    "### 1.2 ndarray属性"
   ],
   "metadata": {
    "collapsed": false,
    "pycharm": {
     "name": "#%% md\n"
    }
   }
  },
  {
   "cell_type": "code",
   "execution_count": 350,
   "outputs": [
    {
     "name": "stdout",
     "output_type": "stream",
     "text": [
      "[['1' '2' '3']\n",
      " ['4' '5' '6']]\n",
      "number of dimensions:  2\n",
      "shape:  (2, 3)\n",
      "size:  6\n",
      "dtype:  <U11\n",
      "transposition:  [['1' '4']\n",
      " ['2' '5']\n",
      " ['3' '6']]\n"
     ]
    }
   ],
   "source": [
    "arr = np.array([[1, 2, 3], ['4', '5', '6']])\n",
    "# arr = np.array([1,2,3])\n",
    "print(arr)\n",
    "print('number of dimensions: ', arr.ndim)  # 维度数量\n",
    "print('shape: ', arr.shape)  # 数组形状(行列或高维度尺寸)\n",
    "print('size: ', arr.size)  # 元素总个数\n",
    "print('dtype: ', arr.dtype)  # 元素的类型\n",
    "print('transposition: ', arr.T)  # 转置"
   ],
   "metadata": {
    "collapsed": false,
    "pycharm": {
     "name": "#%%\n"
    }
   }
  },
  {
   "cell_type": "markdown",
   "source": [
    "### 1.3 ndarray的创建"
   ],
   "metadata": {
    "collapsed": false,
    "pycharm": {
     "name": "#%% md\n"
    }
   }
  },
  {
   "cell_type": "code",
   "execution_count": 351,
   "outputs": [
    {
     "name": "stdout",
     "output_type": "stream",
     "text": [
      "[1. 2. 3.]\n"
     ]
    }
   ],
   "source": [
    "arr1 = np.array([1, 2, 3], dtype=np.float64)  # 指定元素类型\n",
    "print(arr1)"
   ],
   "metadata": {
    "collapsed": false,
    "pycharm": {
     "name": "#%%\n"
    }
   }
  },
  {
   "cell_type": "code",
   "execution_count": 352,
   "outputs": [
    {
     "name": "stdout",
     "output_type": "stream",
     "text": [
      "[1. 2. 3.]\n",
      "[1. 2. 3.]\n",
      "[1. 2. 3.]\n",
      "[4. 2. 3.]\n"
     ]
    }
   ],
   "source": [
    "# copy\n",
    "arr2 = np.copy(arr1)  # 深拷贝\n",
    "print(arr1)\n",
    "print(arr2)\n",
    "arr2[0] = 4.\n",
    "print(arr1)\n",
    "print(arr2)"
   ],
   "metadata": {
    "collapsed": false,
    "pycharm": {
     "name": "#%%\n"
    }
   }
  },
  {
   "cell_type": "code",
   "execution_count": 353,
   "outputs": [
    {
     "name": "stdout",
     "output_type": "stream",
     "text": [
      "[[0. 0. 0.]\n",
      " [0. 0. 0.]]\n",
      "float64\n"
     ]
    }
   ],
   "source": [
    "# 预定义形状\n",
    "# 全0\n",
    "arr_zero = np.zeros((2, 3))\n",
    "print(arr_zero)\n",
    "print(arr_zero.dtype)"
   ],
   "metadata": {
    "collapsed": false,
    "pycharm": {
     "name": "#%%\n"
    }
   }
  },
  {
   "cell_type": "code",
   "execution_count": 354,
   "outputs": [
    {
     "name": "stdout",
     "output_type": "stream",
     "text": [
      "[1 1]\n",
      "int32\n"
     ]
    }
   ],
   "source": [
    "# 全1\n",
    "arr_one = np.ones((2,), dtype=int)\n",
    "print(arr_one)\n",
    "print(arr_one.dtype)"
   ],
   "metadata": {
    "collapsed": false,
    "pycharm": {
     "name": "#%%\n"
    }
   }
  },
  {
   "cell_type": "code",
   "execution_count": 355,
   "outputs": [
    {
     "name": "stdout",
     "output_type": "stream",
     "text": [
      "[[0.25       0.5        0.75      ]\n",
      " [0.2        0.4        0.6       ]\n",
      " [0.16666667 0.33333333 0.5       ]]\n",
      "float64\n"
     ]
    }
   ],
   "source": [
    "# 未初始化(速度快)\n",
    "arr_empty = np.empty((3, 3))\n",
    "print(arr_empty)\n",
    "print(arr_empty.dtype)"
   ],
   "metadata": {
    "collapsed": false,
    "pycharm": {
     "name": "#%%\n"
    }
   }
  },
  {
   "cell_type": "code",
   "execution_count": 356,
   "outputs": [
    {
     "name": "stdout",
     "output_type": "stream",
     "text": [
      "[['A' 'A' 'A']\n",
      " ['A' 'A' 'A']\n",
      " ['A' 'A' 'A']]\n",
      "<U1\n"
     ]
    }
   ],
   "source": [
    "# 指定元素内容\n",
    "arr_full = np.full((3, 3), 'A')\n",
    "print(arr_full)\n",
    "print(arr_full.dtype)"
   ],
   "metadata": {
    "collapsed": false,
    "pycharm": {
     "name": "#%%\n"
    }
   }
  },
  {
   "cell_type": "code",
   "execution_count": 357,
   "outputs": [
    {
     "name": "stdout",
     "output_type": "stream",
     "text": [
      "[1. 2. 3.]\n",
      "[0. 0. 0.]\n",
      "[1. 1. 1.]\n",
      "[1. 1. 1.]\n",
      "[10.1 10.1 10.1]\n"
     ]
    }
   ],
   "source": [
    "# 创建相同形状、类型的ndarray\n",
    "arr_zero = np.zeros_like(arr1)\n",
    "print(arr1)\n",
    "print(arr_zero)\n",
    "arr_one = np.ones_like(arr1)\n",
    "print(arr_one)\n",
    "arr_empty = np.empty_like(arr1)\n",
    "print(arr_empty)\n",
    "arr_full = np.full_like(arr1, 10.1)\n",
    "print(arr_full)"
   ],
   "metadata": {
    "collapsed": false,
    "pycharm": {
     "name": "#%%\n"
    }
   }
  },
  {
   "cell_type": "code",
   "source": [
    "# 等差数列\n",
    "arr = np.arange(1, 10, 1)  # (start, end, step)\n",
    "print(arr)"
   ],
   "metadata": {
    "collapsed": false,
    "pycharm": {
     "name": "#%%\n"
    }
   },
   "execution_count": 358,
   "outputs": [
    {
     "name": "stdout",
     "output_type": "stream",
     "text": [
      "[1 2 3 4 5 6 7 8 9]\n"
     ]
    }
   ]
  },
  {
   "cell_type": "code",
   "execution_count": 359,
   "outputs": [
    {
     "name": "stdout",
     "output_type": "stream",
     "text": [
      "[ 1  3  5  7 10]\n"
     ]
    }
   ],
   "source": [
    "# 等间隔数列\n",
    "arr = np.linspace(1, 10, 5, dtype=int)  # (start, end, num)\n",
    "print(arr)"
   ],
   "metadata": {
    "collapsed": false,
    "pycharm": {
     "name": "#%%\n"
    }
   }
  },
  {
   "cell_type": "code",
   "execution_count": 360,
   "outputs": [
    {
     "name": "stdout",
     "output_type": "stream",
     "text": [
      "[ 1.  4. 16.]\n"
     ]
    }
   ],
   "source": [
    "# 对数间隔数列\n",
    "arr = np.logspace(0, 4, 3, base=2)\n",
    "print(arr)"
   ],
   "metadata": {
    "collapsed": false,
    "pycharm": {
     "name": "#%%\n"
    }
   }
  },
  {
   "cell_type": "code",
   "execution_count": 361,
   "outputs": [
    {
     "name": "stdout",
     "output_type": "stream",
     "text": [
      "[[1 0 0 0]\n",
      " [0 1 0 0]\n",
      " [0 0 1 0]]\n"
     ]
    }
   ],
   "source": [
    "# 特殊矩阵\n",
    "# 单位矩阵 主对角线上元素为1，其他元素为0\n",
    "arr = np.eye(3, 4, dtype=int)\n",
    "print(arr)"
   ],
   "metadata": {
    "collapsed": false,
    "pycharm": {
     "name": "#%%\n"
    }
   }
  },
  {
   "cell_type": "code",
   "execution_count": 362,
   "outputs": [
    {
     "name": "stdout",
     "output_type": "stream",
     "text": [
      "[[1 0 0 0]\n",
      " [0 2 0 0]\n",
      " [0 0 3 0]\n",
      " [0 0 0 4]]\n"
     ]
    }
   ],
   "source": [
    "# 对角矩阵 主对角线上元素不为0，其他元素为0\n",
    "arr = np.diag([1, 2, 3, 4])\n",
    "print(arr)"
   ],
   "metadata": {
    "collapsed": false,
    "pycharm": {
     "name": "#%%\n"
    }
   }
  },
  {
   "cell_type": "code",
   "execution_count": 363,
   "outputs": [
    {
     "name": "stdout",
     "output_type": "stream",
     "text": [
      "[[0.58713093 0.14947134 0.1712386 ]\n",
      " [0.39716452 0.63795156 0.37251995]\n",
      " [0.00240676 0.54881636 0.12697184]]\n"
     ]
    }
   ],
   "source": [
    "# 随机数组生成\n",
    "# 生成0到1之间随机浮点数(均匀分布)\n",
    "arr = np.random.rand(3, 3)\n",
    "print(arr)"
   ],
   "metadata": {
    "collapsed": false,
    "pycharm": {
     "name": "#%%\n"
    }
   }
  },
  {
   "cell_type": "code",
   "execution_count": 364,
   "outputs": [
    {
     "name": "stdout",
     "output_type": "stream",
     "text": [
      "[[3.23937804 3.70511579 4.97989484]\n",
      " [3.64485958 3.60913985 4.14859533]\n",
      " [3.67461841 3.3439464  4.74905115]]\n"
     ]
    }
   ],
   "source": [
    "# 生成指定范围区间的随机浮点数\n",
    "arr = np.random.uniform(3, 6, (3, 3))\n",
    "print(arr)"
   ],
   "metadata": {
    "collapsed": false,
    "pycharm": {
     "name": "#%%\n"
    }
   }
  },
  {
   "cell_type": "code",
   "execution_count": 365,
   "outputs": [
    {
     "name": "stdout",
     "output_type": "stream",
     "text": [
      "[[2 2 1 2]\n",
      " [1 1 1 1]\n",
      " [2 2 1 1]\n",
      " [1 2 2 2]]\n"
     ]
    }
   ],
   "source": [
    "# 生成指定范围区间的随机整数\n",
    "arr = np.random.randint(1, 3, (4, 4))\n",
    "print(arr)"
   ],
   "metadata": {
    "collapsed": false,
    "pycharm": {
     "name": "#%%\n"
    }
   }
  },
  {
   "cell_type": "code",
   "execution_count": 366,
   "outputs": [
    {
     "name": "stdout",
     "output_type": "stream",
     "text": [
      "[[ 0.05397842 -1.82672326 -0.09191484]\n",
      " [-0.25318316  1.38059377 -0.68342883]\n",
      " [-0.31685115 -1.0172704  -0.97412377]]\n"
     ]
    }
   ],
   "source": [
    "# 生成随机数列(正态分布)\n",
    "arr = np.random.randn(3, 3)\n",
    "print(arr)"
   ],
   "metadata": {
    "collapsed": false,
    "pycharm": {
     "name": "#%%\n"
    }
   }
  },
  {
   "cell_type": "code",
   "execution_count": 367,
   "outputs": [
    {
     "name": "stdout",
     "output_type": "stream",
     "text": [
      "[[5 1]\n",
      " [2 1]]\n"
     ]
    }
   ],
   "source": [
    "# 生成种子\n",
    "np.random.seed(10)\n",
    "print(np.random.randint(1, 10, (2, 2)))"
   ],
   "metadata": {
    "collapsed": false,
    "pycharm": {
     "name": "#%%\n"
    }
   }
  },
  {
   "cell_type": "markdown",
   "source": [
    "### 1.4 ndarray数据类型\n",
    "\n",
    "|  类型   | 符号  |\n",
    "|  ----  | ----  |\n",
    "| 布尔型  | bool |\n",
    "| 整型  | int8 int16 int32 int64 uint8 uint16 uint32 uint64 |\n",
    "| 浮点型  | float16 float32 float64 |\n",
    "| 复数  | complex64 complex128 |"
   ],
   "metadata": {
    "collapsed": false,
    "pycharm": {
     "name": "#%% md\n"
    }
   }
  },
  {
   "cell_type": "code",
   "execution_count": 368,
   "outputs": [
    {
     "name": "stdout",
     "output_type": "stream",
     "text": [
      "[ True  True  True]\n",
      "[1 2 3]\n",
      "[1.+0.j 2.+0.j 3.+0.j]\n"
     ]
    },
    {
     "name": "stderr",
     "output_type": "stream",
     "text": [
      "D:\\anaconda\\anaconda3\\envs\\py_3.7\\lib\\site-packages\\ipykernel_launcher.py:1: DeprecationWarning: `np.bool` is a deprecated alias for the builtin `bool`. To silence this warning, use `bool` by itself. Doing this will not modify any behavior and is safe. If you specifically wanted the numpy scalar type, use `np.bool_` here.\n",
      "Deprecated in NumPy 1.20; for more details and guidance: https://numpy.org/devdocs/release/1.20.0-notes.html#deprecations\n",
      "  \"\"\"Entry point for launching an IPython kernel.\n"
     ]
    }
   ],
   "source": [
    "print(np.array([1, 2, 3], dtype=np.bool))\n",
    "print(np.array([1, 2, 3], dtype=np.uint64))\n",
    "print(np.array([1, 2, 3], dtype=np.complex64))"
   ],
   "metadata": {
    "collapsed": false,
    "pycharm": {
     "name": "#%%\n"
    }
   }
  },
  {
   "cell_type": "markdown",
   "source": [
    "### 1.5 索引与切片"
   ],
   "metadata": {
    "collapsed": false,
    "pycharm": {
     "name": "#%% md\n"
    }
   }
  },
  {
   "cell_type": "code",
   "execution_count": 369,
   "outputs": [
    {
     "name": "stdout",
     "output_type": "stream",
     "text": [
      "[2 9 1 9 7 5 4 1 5 7]\n"
     ]
    }
   ],
   "source": [
    "arr = np.random.randint(1, 10, 10)\n",
    "print(arr)"
   ],
   "metadata": {
    "collapsed": false,
    "pycharm": {
     "name": "#%%\n"
    }
   }
  },
  {
   "cell_type": "code",
   "execution_count": 370,
   "outputs": [
    {
     "name": "stdout",
     "output_type": "stream",
     "text": [
      "2\n",
      "[2 9 1 9 7 5 4 1 5 7]\n",
      "[2 9 1]\n",
      "[2 9 1]\n",
      "[2 1 7]\n",
      "[9 9 7 5 4 5 7]\n",
      "[5 4 5]\n"
     ]
    }
   ],
   "source": [
    "# 一维数组切片\n",
    "print(arr[0])\n",
    "print(arr[:])\n",
    "print(arr[0:3])\n",
    "print(arr[slice(0, 3)])\n",
    "print(arr[0:5:2])\n",
    "print(arr[arr > 2])\n",
    "print(arr[(arr > 2) & (arr < 6)])"
   ],
   "metadata": {
    "collapsed": false,
    "pycharm": {
     "name": "#%%\n"
    }
   }
  },
  {
   "cell_type": "code",
   "execution_count": 371,
   "outputs": [
    {
     "name": "stdout",
     "output_type": "stream",
     "text": [
      "[[9 2 9 5 2 4]\n",
      " [7 6 4 7 2 5]\n",
      " [3 7 8 9 9 3]\n",
      " [1 7 8 9 2 8]\n",
      " [2 5 1 9 6 5]\n",
      " [8 9 9 3 7 3]]\n"
     ]
    }
   ],
   "source": [
    "arr = np.random.randint(1, 10, (6, 6))\n",
    "print(arr)"
   ],
   "metadata": {
    "collapsed": false,
    "pycharm": {
     "name": "#%%\n"
    }
   }
  },
  {
   "cell_type": "code",
   "execution_count": 372,
   "outputs": [
    {
     "name": "stdout",
     "output_type": "stream",
     "text": [
      "[9 2 9 5 2 4]\n",
      "7\n",
      "[7 6 4 7 2 5]\n",
      "[7 6 4 7 2 5]\n",
      "[7 6 4]\n",
      "[[9 2 9 5 2 4]\n",
      " [7 6 4 7 2 5]]\n",
      "[9 9]\n",
      "[5 7 9 9 9 3]\n"
     ]
    }
   ],
   "source": [
    "# 二维数组切片\n",
    "print(arr[0])\n",
    "print(arr[1, 3])\n",
    "print(arr[1, :])\n",
    "print(arr[1])\n",
    "print(arr[1, 0:3])\n",
    "print(arr[slice(0, 2)])\n",
    "print(arr[0][arr[0] > 5])\n",
    "print(arr[:, 3])"
   ],
   "metadata": {
    "collapsed": false,
    "pycharm": {
     "name": "#%%\n"
    }
   }
  },
  {
   "cell_type": "markdown",
   "source": [
    "### 1.6 ndarray的运算"
   ],
   "metadata": {
    "collapsed": false,
    "pycharm": {
     "name": "#%% md\n"
    }
   }
  },
  {
   "cell_type": "code",
   "execution_count": 373,
   "outputs": [
    {
     "name": "stdout",
     "output_type": "stream",
     "text": [
      "[4 6 8]\n",
      "[-2 -2 -2]\n",
      "[ 3  8 15]\n",
      "[0.33333333 0.5        0.6       ]\n",
      "[1 4 9]\n"
     ]
    }
   ],
   "source": [
    "# 算术运算\n",
    "# 一维数组\n",
    "a = np.array([1, 2, 3])\n",
    "b = np.array([3, 4, 5])\n",
    "print(a + b)\n",
    "print(a - b)\n",
    "print(a * b)\n",
    "print(a / b)\n",
    "print(a ** 2)  # 幂运算"
   ],
   "metadata": {
    "collapsed": false,
    "pycharm": {
     "name": "#%%\n"
    }
   }
  },
  {
   "cell_type": "code",
   "execution_count": 374,
   "outputs": [
    {
     "name": "stdout",
     "output_type": "stream",
     "text": [
      "[[ 5  7  9]\n",
      " [11 13 15]\n",
      " [ 8 10 12]]\n",
      "[[-3 -3 -3]\n",
      " [-3 -3 -3]\n",
      " [ 6  6  6]]\n",
      "[[ 4 10 18]\n",
      " [28 40 54]\n",
      " [ 7 16 27]]\n",
      "[[0.25       0.4        0.5       ]\n",
      " [0.57142857 0.625      0.66666667]\n",
      " [7.         4.         3.        ]]\n",
      "[[ 1  4  9]\n",
      " [16 25 36]\n",
      " [49 64 81]]\n"
     ]
    }
   ],
   "source": [
    "# 矩阵\n",
    "a = np.array([[1, 2, 3], [4, 5, 6], [7, 8, 9]])\n",
    "b = np.array([[4, 5, 6], [7, 8, 9], [1, 2, 3]])\n",
    "print(a + b)\n",
    "print(a - b)\n",
    "print(a * b)\n",
    "print(a / b)\n",
    "print(a ** 2)"
   ],
   "metadata": {
    "collapsed": false,
    "pycharm": {
     "name": "#%%\n"
    }
   }
  },
  {
   "cell_type": "code",
   "execution_count": 375,
   "outputs": [
    {
     "name": "stdout",
     "output_type": "stream",
     "text": [
      "[[5 6 7]\n",
      " [6 7 8]\n",
      " [7 8 9]]\n",
      "[[-3 -2 -1]\n",
      " [-4 -3 -2]\n",
      " [-5 -4 -3]]\n",
      "[[ 4  8 12]\n",
      " [ 5 10 15]\n",
      " [ 6 12 18]]\n",
      "[[0.25       0.5        0.75      ]\n",
      " [0.2        0.4        0.6       ]\n",
      " [0.16666667 0.33333333 0.5       ]]\n"
     ]
    }
   ],
   "source": [
    "# 广播机制\n",
    "# 条件 维度相同或其中一方为1\n",
    "a = np.array([1, 2, 3])  # 3*1\n",
    "b = np.array([[4], [5], [6]])  # 1*3\n",
    "\"\"\"\n",
    "  1 2 3        4 4 4\n",
    "  1 2 3        5 5 5\n",
    "  1 2 3        6 6 6\n",
    "\"\"\"\n",
    "print(a + b)\n",
    "print(a - b)\n",
    "print(a * b)\n",
    "print(a / b)"
   ],
   "metadata": {
    "collapsed": false,
    "pycharm": {
     "name": "#%%\n"
    }
   }
  },
  {
   "cell_type": "code",
   "execution_count": 376,
   "outputs": [
    {
     "name": "stdout",
     "output_type": "stream",
     "text": [
      "[[ 21  27  33]\n",
      " [ 57  72  87]\n",
      " [ 93 117 141]]\n"
     ]
    }
   ],
   "source": [
    "# 矩阵乘法运算\n",
    "# 每个位置(x,y)结果为 a的x行与b的y列相乘的总和\n",
    "a = np.array([[1, 2, 3], [4, 5, 6], [7, 8, 9]])\n",
    "b = np.array([[4, 5, 6], [7, 8, 9], [1, 2, 3]])\n",
    "print(a @ b)"
   ],
   "metadata": {
    "collapsed": false,
    "pycharm": {
     "name": "#%%\n"
    }
   }
  },
  {
   "cell_type": "markdown",
   "source": [
    "### 1.7 ndarray常用函数"
   ],
   "metadata": {
    "collapsed": false,
    "pycharm": {
     "name": "#%% md\n"
    }
   }
  },
  {
   "cell_type": "code",
   "execution_count": 377,
   "outputs": [
    {
     "name": "stdout",
     "output_type": "stream",
     "text": [
      "[1. 2. 3. 4.]\n",
      "[1.         1.41421356 1.73205081]\n"
     ]
    }
   ],
   "source": [
    "arr = np.array([1, 4, 9, 16])\n",
    "# 计算平方根\n",
    "print(np.sqrt(arr))\n",
    "print(np.sqrt([1, 2, 3]))"
   ],
   "metadata": {
    "collapsed": false,
    "pycharm": {
     "name": "#%%\n"
    }
   }
  },
  {
   "cell_type": "code",
   "execution_count": 378,
   "outputs": [
    {
     "name": "stdout",
     "output_type": "stream",
     "text": [
      "2.718281828459045\n",
      "7.38905609893065\n"
     ]
    }
   ],
   "source": [
    "# 计算指数(e^x = y)\n",
    "print(np.exp(1))\n",
    "print(np.exp(2))"
   ],
   "metadata": {
    "collapsed": false,
    "pycharm": {
     "name": "#%%\n"
    }
   }
  },
  {
   "cell_type": "code",
   "execution_count": 379,
   "outputs": [
    {
     "name": "stdout",
     "output_type": "stream",
     "text": [
      "1.0\n",
      "0.0\n"
     ]
    }
   ],
   "source": [
    "# 计算对数(lny = x)\n",
    "print(np.log(np.e))\n",
    "print(np.log(1))"
   ],
   "metadata": {
    "collapsed": false,
    "pycharm": {
     "name": "#%%\n"
    }
   }
  },
  {
   "cell_type": "code",
   "execution_count": 380,
   "outputs": [
    {
     "name": "stdout",
     "output_type": "stream",
     "text": [
      "1.0\n",
      "-1.0\n"
     ]
    }
   ],
   "source": [
    "# 正弦\n",
    "print(np.sin(np.pi / 2))\n",
    "# 余弦\n",
    "print(np.cos(np.pi))"
   ],
   "metadata": {
    "collapsed": false,
    "pycharm": {
     "name": "#%%\n"
    }
   }
  },
  {
   "cell_type": "code",
   "execution_count": 381,
   "outputs": [
    {
     "name": "stdout",
     "output_type": "stream",
     "text": [
      "[  1  16  81 256]\n"
     ]
    }
   ],
   "source": [
    "# 幂运算\n",
    "print(np.power(arr, 2))"
   ],
   "metadata": {
    "collapsed": false,
    "pycharm": {
     "name": "#%%\n"
    }
   }
  },
  {
   "cell_type": "code",
   "execution_count": 382,
   "outputs": [
    {
     "name": "stdout",
     "output_type": "stream",
     "text": [
      "[ 2.  2.  3.  4.  7. 10.]\n"
     ]
    }
   ],
   "source": [
    "# 四舍五入(四舍六入五凑偶)\n",
    "print(np.round([1.5, 2.4, 3.1, 4.5, 6.51, 9.6]))"
   ],
   "metadata": {
    "collapsed": false,
    "pycharm": {
     "name": "#%%\n"
    }
   }
  },
  {
   "cell_type": "code",
   "execution_count": 383,
   "outputs": [
    {
     "name": "stdout",
     "output_type": "stream",
     "text": [
      "[1 0 1 2]\n"
     ]
    }
   ],
   "source": [
    "# 绝对值\n",
    "arr = np.array([-1, 0, 1, 2])\n",
    "print(np.abs(arr))"
   ],
   "metadata": {
    "collapsed": false,
    "pycharm": {
     "name": "#%%\n"
    }
   }
  },
  {
   "cell_type": "code",
   "execution_count": 384,
   "outputs": [
    {
     "name": "stdout",
     "output_type": "stream",
     "text": [
      "[ 2.  3.  4. 10.]\n",
      "[1. 2. 3. 9.]\n"
     ]
    }
   ],
   "source": [
    "# 向上取整\n",
    "arr = np.array([1.5, 2.1, 3.5, 9.1])\n",
    "print(np.ceil(arr))\n",
    "# 向下取整\n",
    "print(np.floor(arr))"
   ],
   "metadata": {
    "collapsed": false,
    "pycharm": {
     "name": "#%%\n"
    }
   }
  },
  {
   "cell_type": "code",
   "execution_count": 385,
   "outputs": [
    {
     "name": "stdout",
     "output_type": "stream",
     "text": [
      "[False False False False]\n",
      "[False False  True False]\n"
     ]
    }
   ],
   "source": [
    "# 检查NaN\n",
    "print(np.isnan([1, 2, 3.4, 0]))\n",
    "print(np.isnan([1, 2, np.nan, 0]))"
   ],
   "metadata": {
    "collapsed": false,
    "pycharm": {
     "name": "#%%\n"
    }
   }
  },
  {
   "cell_type": "code",
   "execution_count": 386,
   "outputs": [
    {
     "name": "stdout",
     "output_type": "stream",
     "text": [
      "[9 9 7 7 6 7 1 1 7 2]\n",
      "5.6\n"
     ]
    }
   ],
   "source": [
    "# 统计函数\n",
    "# 平均数\n",
    "arr = np.random.randint(1, 10, 10)\n",
    "print(arr)\n",
    "print(np.mean(arr))"
   ],
   "metadata": {
    "collapsed": false,
    "pycharm": {
     "name": "#%%\n"
    }
   }
  },
  {
   "cell_type": "code",
   "execution_count": 387,
   "outputs": [
    {
     "name": "stdout",
     "output_type": "stream",
     "text": [
      "1.0\n"
     ]
    }
   ],
   "source": [
    "# 中位数\n",
    "print(np.median([1, 1, 1, 1, 1, 100]))"
   ],
   "metadata": {
    "collapsed": false,
    "pycharm": {
     "name": "#%%\n"
    }
   }
  },
  {
   "cell_type": "code",
   "execution_count": 388,
   "outputs": [
    {
     "name": "stdout",
     "output_type": "stream",
     "text": [
      "8.64\n",
      "2.939387691339814\n",
      "2.939387691339814\n"
     ]
    }
   ],
   "source": [
    "print(np.var(arr))  # 方差\n",
    "print(np.sqrt(np.var(arr)))\n",
    "print(np.std(arr))  # 标准差"
   ],
   "metadata": {
    "collapsed": false,
    "pycharm": {
     "name": "#%%\n"
    }
   }
  },
  {
   "cell_type": "code",
   "execution_count": 389,
   "outputs": [
    {
     "name": "stdout",
     "output_type": "stream",
     "text": [
      "56\n"
     ]
    }
   ],
   "source": [
    "print(np.sum(arr))  # 求和"
   ],
   "metadata": {
    "collapsed": false,
    "pycharm": {
     "name": "#%%\n"
    }
   }
  },
  {
   "cell_type": "code",
   "execution_count": 390,
   "outputs": [
    {
     "name": "stdout",
     "output_type": "stream",
     "text": [
      "7\n",
      "5\n",
      "1 0\n"
     ]
    }
   ],
   "source": [
    "# 最大值\n",
    "arr = np.array([1, 1, 2, 4, 5, 7, 7])\n",
    "print(np.max(arr))\n",
    "# 最大值索引(第一次出现)\n",
    "print(np.argmax(arr))\n",
    "# 最小值、最小值索引\n",
    "print(np.min(arr), np.argmin(arr))"
   ],
   "metadata": {
    "collapsed": false,
    "pycharm": {
     "name": "#%%\n"
    }
   }
  },
  {
   "cell_type": "code",
   "execution_count": 391,
   "outputs": [
    {
     "name": "stdout",
     "output_type": "stream",
     "text": [
      "55.5\n",
      "46.25\n"
     ]
    }
   ],
   "source": [
    "# 分位数\n",
    "arr = np.array([44, 47, 64, 67])\n",
    "print(np.median(arr))\n",
    "print(np.percentile(arr, 25))"
   ],
   "metadata": {
    "collapsed": false,
    "pycharm": {
     "name": "#%%\n"
    }
   }
  },
  {
   "cell_type": "markdown",
   "source": [
    "### <span style=\"color:red\">分位数计算公式</span>\n",
    "(n−1)∗p=i+j    （其中n为数组元素的个数，将计算结果的整数部分用i表示，小数部分用j来表示，p是百分位数，如90%的话就是0.9）\n",
    "res=(1−j)∗arr[i]+j∗arr[i+1]     （res就是我们所需要的百分位数）"
   ],
   "metadata": {
    "collapsed": false,
    "pycharm": {
     "name": "#%% md\n"
    }
   }
  },
  {
   "cell_type": "code",
   "execution_count": 395,
   "outputs": [
    {
     "name": "stdout",
     "output_type": "stream",
     "text": [
      "0.75 0 0.75\n",
      "46.25\n"
     ]
    }
   ],
   "source": [
    "percent = 0.25  # 百分位\n",
    "n = len(arr)  # 数组长度\n",
    "index = (n - 1) * percent\n",
    "i = int(index)  # 整数位\n",
    "j = round(index, 2) - i  # 小数位\n",
    "print(index, i, j)\n",
    "res = (1 - j) * arr[i] + j * arr[i + 1]  # 分位数\n",
    "print(res)"
   ],
   "metadata": {
    "collapsed": false,
    "pycharm": {
     "name": "#%%\n"
    }
   }
  },
  {
   "cell_type": "code",
   "execution_count": 397,
   "outputs": [
    {
     "name": "stdout",
     "output_type": "stream",
     "text": [
      "[1 3 6]\n",
      "[1 2 6]\n"
     ]
    }
   ],
   "source": [
    "# 累积和\n",
    "arr = np.array([1, 2, 3])\n",
    "print(np.cumsum(arr))\n",
    "# 累积积\n",
    "print(np.cumprod(arr))"
   ],
   "metadata": {
    "collapsed": false,
    "pycharm": {
     "name": "#%%\n"
    }
   }
  },
  {
   "cell_type": "code",
   "execution_count": 405,
   "outputs": [
    {
     "name": "stdout",
     "output_type": "stream",
     "text": [
      "[False False  True  True  True  True  True]\n",
      "[ True  True  True False False False False]\n",
      "[False False False  True  True False False]\n",
      "[[ True  True  True]\n",
      " [ True  True False]]\n"
     ]
    }
   ],
   "source": [
    "# 比较函数\n",
    "arr = np.array([3, 4, 5, 6, 6, 7, 8])\n",
    "# 是否大于\n",
    "print(np.greater(arr, 4))\n",
    "# 是否小于\n",
    "print(np.less(arr, 6))\n",
    "# 是否等于\n",
    "print(np.equal(arr, 6))\n",
    "print(np.equal([[1, 2, 3], [4, 5, 6]], [[1, 2, 3], [4, 5, 7]]))"
   ],
   "metadata": {
    "collapsed": false,
    "pycharm": {
     "name": "#%%\n"
    }
   }
  },
  {
   "cell_type": "code",
   "execution_count": 408,
   "outputs": [
    {
     "name": "stdout",
     "output_type": "stream",
     "text": [
      "[False False]\n",
      "[ True  True]\n",
      "[False  True]\n",
      "[ True  True]\n"
     ]
    }
   ],
   "source": [
    "# 逻辑与\n",
    "print(np.logical_and([1, 0], [0, 1]))\n",
    "# 逻辑或\n",
    "print(np.logical_or([1, 0], [0, 1]))\n",
    "# 逻辑非\n",
    "print(np.logical_not([1, 0]))\n",
    "# 逻辑异或\n",
    "print(np.logical_xor([1, 0], [0, 1]))"
   ],
   "metadata": {
    "collapsed": false,
    "pycharm": {
     "name": "#%%\n"
    }
   }
  },
  {
   "cell_type": "code",
   "execution_count": 412,
   "outputs": [
    {
     "name": "stdout",
     "output_type": "stream",
     "text": [
      "True\n",
      "False\n"
     ]
    }
   ],
   "source": [
    "# 检查元素是否至少有一个为True\n",
    "print(np.any([1, 0, 0, 0, 0]))\n",
    "# 检查元素是否全为True\n",
    "print(np.all([1, 0, 0, 0, 0]))"
   ],
   "metadata": {
    "collapsed": false,
    "pycharm": {
     "name": "#%%\n"
    }
   }
  },
  {
   "cell_type": "code",
   "execution_count": 422,
   "outputs": [
    {
     "name": "stdout",
     "output_type": "stream",
     "text": [
      "[0 0 1 1 1]\n",
      "['B' 'B' 'A' 'A' 'A']\n",
      "['C' 'B' 'A' 'A' 'A']\n",
      "['D' 'B' 'B' 'A' 'A']\n"
     ]
    }
   ],
   "source": [
    "# 自定义条件\n",
    "arr = np.array([1, 2, 3, 4, 5])\n",
    "print(np.where(arr >= 3, 1, 0))  # where(condition, true, false)\n",
    "print(np.where(arr >= 3, 'A', 'B'))\n",
    "print(np.where(arr >= 3, 'A', np.where(arr >= 2, \"B\", \"C\")))\n",
    "# 自定义条件、结果 select(condition,result,default)\n",
    "print(np.select([arr < 1, (2 <= arr) & (arr <= 3), arr > 3], ['C', 'B', 'A'], default='D'))"
   ],
   "metadata": {
    "collapsed": false,
    "pycharm": {
     "name": "#%%\n"
    }
   }
  },
  {
   "cell_type": "code",
   "execution_count": 429,
   "outputs": [
    {
     "name": "stdout",
     "output_type": "stream",
     "text": [
      "[ 9 25 68 88 80 49 11 95 53 99 54 67 99 15 35 25 16 61 59 17]\n",
      "[ 9 11 15 16 17 25 25 35 49 53 54 59 61 67 68 80 88 95 99 99]\n",
      "[ 0  6 13 16 19 15  1 14  5  8 10 18 17 11  2  4  3  7 12  9]\n",
      "[ 9 25 68 88 80 49 11 95 53 99 54 67 99 15 35 25 16 61 59 17]\n"
     ]
    }
   ],
   "source": [
    "# 排序函数\n",
    "np.random.seed(100)\n",
    "arr = np.random.randint(1, 100, 20)\n",
    "print(arr)\n",
    "# arr.sort()\n",
    "print(np.sort(arr))  # 返回排序后的数组\n",
    "print(np.argsort(arr))  # 返回排序数组排序前的元素索引\n",
    "print(arr)"
   ],
   "metadata": {
    "collapsed": false,
    "pycharm": {
     "name": "#%%\n"
    }
   }
  },
  {
   "cell_type": "code",
   "execution_count": 431,
   "outputs": [
    {
     "name": "stdout",
     "output_type": "stream",
     "text": [
      "[ 9 11 15 16 17 25 35 49 53 54 59 61 67 68 80 88 95 99]\n"
     ]
    }
   ],
   "source": [
    "# 去重函数\n",
    "print(np.unique(arr))  # 去重并排序"
   ],
   "metadata": {
    "collapsed": false,
    "pycharm": {
     "name": "#%%\n"
    }
   }
  },
  {
   "cell_type": "code",
   "execution_count": 435,
   "outputs": [
    {
     "name": "stdout",
     "output_type": "stream",
     "text": [
      "[1 2 3 4 5 6]\n",
      "[4 5 6 1 2 3]\n"
     ]
    }
   ],
   "source": [
    "# 数组的拼接\n",
    "arr1 = np.array([1, 2, 3])\n",
    "arr2 = np.array([4, 5, 6])\n",
    "print(np.concatenate((arr1, arr2)))\n",
    "print(np.concatenate((arr2, arr1)))"
   ],
   "metadata": {
    "collapsed": false,
    "pycharm": {
     "name": "#%%\n"
    }
   }
  },
  {
   "cell_type": "code",
   "execution_count": 443,
   "outputs": [
    {
     "name": "stdout",
     "output_type": "stream",
     "text": [
      "[array([1, 2, 3, 4, 5, 6]), array([ 7,  8,  9, 10, 11, 12])]\n",
      "[array([1, 2, 3]), array([4, 5, 6]), array([7, 8, 9]), array([10, 11, 12])]\n",
      "[array([1, 2, 3, 4, 5]), array([6, 7, 8, 9]), array([10, 11, 12])]\n"
     ]
    }
   ],
   "source": [
    "# 数组的分割\n",
    "arr = np.array([1, 2, 3, 4, 5, 6, 7, 8, 9, 10, 11, 12])\n",
    "print(np.split(arr, 2))  # 只能等分\n",
    "print(np.split(arr, 4))\n",
    "print(np.split(arr, [5, 9]))  # 指定分割索引 支持不等分"
   ],
   "metadata": {
    "collapsed": false,
    "pycharm": {
     "name": "#%%\n"
    }
   }
  },
  {
   "cell_type": "code",
   "execution_count": 444,
   "outputs": [
    {
     "name": "stdout",
     "output_type": "stream",
     "text": [
      "[[ 1  2  3  4  5  6]\n",
      " [ 7  8  9 10 11 12]]\n"
     ]
    }
   ],
   "source": [
    "# 调整数组形状\n",
    "print(np.reshape(arr, [2, 6]))  # 元素数量要相同"
   ],
   "metadata": {
    "collapsed": false,
    "pycharm": {
     "name": "#%%\n"
    }
   }
  }
 ],
 "metadata": {
  "kernelspec": {
   "display_name": "Python 3",
   "language": "python",
   "name": "python3"
  },
  "language_info": {
   "codemirror_mode": {
    "name": "ipython",
    "version": 2
   },
   "file_extension": ".py",
   "mimetype": "text/x-python",
   "name": "python",
   "nbconvert_exporter": "python",
   "pygments_lexer": "ipython2",
   "version": "2.7.6"
  }
 },
 "nbformat": 4,
 "nbformat_minor": 0
}